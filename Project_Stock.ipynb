{
 "cells": [
  {
   "cell_type": "code",
   "execution_count": 59,
   "metadata": {},
   "outputs": [],
   "source": [
    "import pandas as pd\n",
    "import numpy as np\n",
    "import matplotlib as plt\n",
    "import quandl"
   ]
  },
  {
   "cell_type": "markdown",
   "metadata": {},
   "source": [
    "# Quick Heal Technologies\n",
    "- Bombay Stock Exchange Data From Quandl"
   ]
  },
  {
   "cell_type": "code",
   "execution_count": 2,
   "metadata": {},
   "outputs": [],
   "source": [
    "dataset=quandl.get(\"BSE/BOM539678\", authtoken=\"u_aKp8ws2STjJmgBcaD-\")"
   ]
  },
  {
   "cell_type": "code",
   "execution_count": 4,
   "metadata": {},
   "outputs": [
    {
     "data": {
      "text/html": [
       "<div>\n",
       "<style scoped>\n",
       "    .dataframe tbody tr th:only-of-type {\n",
       "        vertical-align: middle;\n",
       "    }\n",
       "\n",
       "    .dataframe tbody tr th {\n",
       "        vertical-align: top;\n",
       "    }\n",
       "\n",
       "    .dataframe thead th {\n",
       "        text-align: right;\n",
       "    }\n",
       "</style>\n",
       "<table border=\"1\" class=\"dataframe\">\n",
       "  <thead>\n",
       "    <tr style=\"text-align: right;\">\n",
       "      <th></th>\n",
       "      <th>Open</th>\n",
       "      <th>High</th>\n",
       "      <th>Low</th>\n",
       "      <th>Close</th>\n",
       "      <th>WAP</th>\n",
       "      <th>No. of Shares</th>\n",
       "      <th>No. of Trades</th>\n",
       "      <th>Total Turnover</th>\n",
       "      <th>Deliverable Quantity</th>\n",
       "      <th>% Deli. Qty to Traded Qty</th>\n",
       "      <th>Spread H-L</th>\n",
       "      <th>Spread C-O</th>\n",
       "    </tr>\n",
       "    <tr>\n",
       "      <th>Date</th>\n",
       "      <th></th>\n",
       "      <th></th>\n",
       "      <th></th>\n",
       "      <th></th>\n",
       "      <th></th>\n",
       "      <th></th>\n",
       "      <th></th>\n",
       "      <th></th>\n",
       "      <th></th>\n",
       "      <th></th>\n",
       "      <th></th>\n",
       "      <th></th>\n",
       "    </tr>\n",
       "  </thead>\n",
       "  <tbody>\n",
       "    <tr>\n",
       "      <th>2017-02-21</th>\n",
       "      <td>254.25</td>\n",
       "      <td>259.50</td>\n",
       "      <td>253.00</td>\n",
       "      <td>257.75</td>\n",
       "      <td>257.17</td>\n",
       "      <td>40544.0</td>\n",
       "      <td>1048.0</td>\n",
       "      <td>10426526.0</td>\n",
       "      <td>9129.0</td>\n",
       "      <td>22.52</td>\n",
       "      <td>6.50</td>\n",
       "      <td>3.50</td>\n",
       "    </tr>\n",
       "    <tr>\n",
       "      <th>2017-02-22</th>\n",
       "      <td>257.00</td>\n",
       "      <td>261.00</td>\n",
       "      <td>252.60</td>\n",
       "      <td>253.05</td>\n",
       "      <td>256.18</td>\n",
       "      <td>35603.0</td>\n",
       "      <td>1067.0</td>\n",
       "      <td>9120718.0</td>\n",
       "      <td>8450.0</td>\n",
       "      <td>23.73</td>\n",
       "      <td>8.40</td>\n",
       "      <td>-3.95</td>\n",
       "    </tr>\n",
       "    <tr>\n",
       "      <th>2017-02-23</th>\n",
       "      <td>253.30</td>\n",
       "      <td>254.60</td>\n",
       "      <td>249.20</td>\n",
       "      <td>250.55</td>\n",
       "      <td>251.99</td>\n",
       "      <td>26262.0</td>\n",
       "      <td>600.0</td>\n",
       "      <td>6617792.0</td>\n",
       "      <td>13570.0</td>\n",
       "      <td>51.67</td>\n",
       "      <td>5.40</td>\n",
       "      <td>-2.75</td>\n",
       "    </tr>\n",
       "    <tr>\n",
       "      <th>2017-02-27</th>\n",
       "      <td>251.40</td>\n",
       "      <td>252.00</td>\n",
       "      <td>244.00</td>\n",
       "      <td>247.50</td>\n",
       "      <td>249.58</td>\n",
       "      <td>28019.0</td>\n",
       "      <td>732.0</td>\n",
       "      <td>6992855.0</td>\n",
       "      <td>11992.0</td>\n",
       "      <td>42.80</td>\n",
       "      <td>8.00</td>\n",
       "      <td>-3.90</td>\n",
       "    </tr>\n",
       "    <tr>\n",
       "      <th>2017-02-28</th>\n",
       "      <td>248.50</td>\n",
       "      <td>253.50</td>\n",
       "      <td>247.60</td>\n",
       "      <td>248.50</td>\n",
       "      <td>249.88</td>\n",
       "      <td>66735.0</td>\n",
       "      <td>1514.0</td>\n",
       "      <td>16675820.0</td>\n",
       "      <td>13474.0</td>\n",
       "      <td>20.19</td>\n",
       "      <td>5.90</td>\n",
       "      <td>0.00</td>\n",
       "    </tr>\n",
       "    <tr>\n",
       "      <th>...</th>\n",
       "      <td>...</td>\n",
       "      <td>...</td>\n",
       "      <td>...</td>\n",
       "      <td>...</td>\n",
       "      <td>...</td>\n",
       "      <td>...</td>\n",
       "      <td>...</td>\n",
       "      <td>...</td>\n",
       "      <td>...</td>\n",
       "      <td>...</td>\n",
       "      <td>...</td>\n",
       "      <td>...</td>\n",
       "    </tr>\n",
       "    <tr>\n",
       "      <th>2020-02-20</th>\n",
       "      <td>124.60</td>\n",
       "      <td>131.95</td>\n",
       "      <td>124.60</td>\n",
       "      <td>128.45</td>\n",
       "      <td>128.69</td>\n",
       "      <td>36247.0</td>\n",
       "      <td>1399.0</td>\n",
       "      <td>4664620.0</td>\n",
       "      <td>15580.0</td>\n",
       "      <td>42.98</td>\n",
       "      <td>7.35</td>\n",
       "      <td>3.85</td>\n",
       "    </tr>\n",
       "    <tr>\n",
       "      <th>2020-02-24</th>\n",
       "      <td>127.70</td>\n",
       "      <td>130.00</td>\n",
       "      <td>125.55</td>\n",
       "      <td>127.30</td>\n",
       "      <td>127.81</td>\n",
       "      <td>24928.0</td>\n",
       "      <td>777.0</td>\n",
       "      <td>3186086.0</td>\n",
       "      <td>11696.0</td>\n",
       "      <td>46.92</td>\n",
       "      <td>4.45</td>\n",
       "      <td>-0.40</td>\n",
       "    </tr>\n",
       "    <tr>\n",
       "      <th>2020-02-25</th>\n",
       "      <td>127.35</td>\n",
       "      <td>128.45</td>\n",
       "      <td>124.40</td>\n",
       "      <td>125.10</td>\n",
       "      <td>125.91</td>\n",
       "      <td>13543.0</td>\n",
       "      <td>636.0</td>\n",
       "      <td>1705233.0</td>\n",
       "      <td>4976.0</td>\n",
       "      <td>36.74</td>\n",
       "      <td>4.05</td>\n",
       "      <td>-2.25</td>\n",
       "    </tr>\n",
       "    <tr>\n",
       "      <th>2020-02-26</th>\n",
       "      <td>128.00</td>\n",
       "      <td>128.00</td>\n",
       "      <td>121.05</td>\n",
       "      <td>121.45</td>\n",
       "      <td>122.17</td>\n",
       "      <td>15844.0</td>\n",
       "      <td>625.0</td>\n",
       "      <td>1935667.0</td>\n",
       "      <td>6774.0</td>\n",
       "      <td>42.75</td>\n",
       "      <td>6.95</td>\n",
       "      <td>-6.55</td>\n",
       "    </tr>\n",
       "    <tr>\n",
       "      <th>2020-02-27</th>\n",
       "      <td>120.60</td>\n",
       "      <td>120.60</td>\n",
       "      <td>117.20</td>\n",
       "      <td>119.75</td>\n",
       "      <td>119.24</td>\n",
       "      <td>13114.0</td>\n",
       "      <td>699.0</td>\n",
       "      <td>1563739.0</td>\n",
       "      <td>8109.0</td>\n",
       "      <td>61.83</td>\n",
       "      <td>3.40</td>\n",
       "      <td>-0.85</td>\n",
       "    </tr>\n",
       "  </tbody>\n",
       "</table>\n",
       "<p>746 rows × 12 columns</p>\n",
       "</div>"
      ],
      "text/plain": [
       "              Open    High     Low   Close     WAP  No. of Shares  \\\n",
       "Date                                                                \n",
       "2017-02-21  254.25  259.50  253.00  257.75  257.17        40544.0   \n",
       "2017-02-22  257.00  261.00  252.60  253.05  256.18        35603.0   \n",
       "2017-02-23  253.30  254.60  249.20  250.55  251.99        26262.0   \n",
       "2017-02-27  251.40  252.00  244.00  247.50  249.58        28019.0   \n",
       "2017-02-28  248.50  253.50  247.60  248.50  249.88        66735.0   \n",
       "...            ...     ...     ...     ...     ...            ...   \n",
       "2020-02-20  124.60  131.95  124.60  128.45  128.69        36247.0   \n",
       "2020-02-24  127.70  130.00  125.55  127.30  127.81        24928.0   \n",
       "2020-02-25  127.35  128.45  124.40  125.10  125.91        13543.0   \n",
       "2020-02-26  128.00  128.00  121.05  121.45  122.17        15844.0   \n",
       "2020-02-27  120.60  120.60  117.20  119.75  119.24        13114.0   \n",
       "\n",
       "            No. of Trades  Total Turnover  Deliverable Quantity  \\\n",
       "Date                                                              \n",
       "2017-02-21         1048.0      10426526.0                9129.0   \n",
       "2017-02-22         1067.0       9120718.0                8450.0   \n",
       "2017-02-23          600.0       6617792.0               13570.0   \n",
       "2017-02-27          732.0       6992855.0               11992.0   \n",
       "2017-02-28         1514.0      16675820.0               13474.0   \n",
       "...                   ...             ...                   ...   \n",
       "2020-02-20         1399.0       4664620.0               15580.0   \n",
       "2020-02-24          777.0       3186086.0               11696.0   \n",
       "2020-02-25          636.0       1705233.0                4976.0   \n",
       "2020-02-26          625.0       1935667.0                6774.0   \n",
       "2020-02-27          699.0       1563739.0                8109.0   \n",
       "\n",
       "            % Deli. Qty to Traded Qty  Spread H-L  Spread C-O  \n",
       "Date                                                           \n",
       "2017-02-21                      22.52        6.50        3.50  \n",
       "2017-02-22                      23.73        8.40       -3.95  \n",
       "2017-02-23                      51.67        5.40       -2.75  \n",
       "2017-02-27                      42.80        8.00       -3.90  \n",
       "2017-02-28                      20.19        5.90        0.00  \n",
       "...                               ...         ...         ...  \n",
       "2020-02-20                      42.98        7.35        3.85  \n",
       "2020-02-24                      46.92        4.45       -0.40  \n",
       "2020-02-25                      36.74        4.05       -2.25  \n",
       "2020-02-26                      42.75        6.95       -6.55  \n",
       "2020-02-27                      61.83        3.40       -0.85  \n",
       "\n",
       "[746 rows x 12 columns]"
      ]
     },
     "execution_count": 4,
     "metadata": {},
     "output_type": "execute_result"
    }
   ],
   "source": [
    "df=pd.DataFrame(dataset)\n",
    "df"
   ]
  },
  {
   "cell_type": "code",
   "execution_count": 5,
   "metadata": {},
   "outputs": [
    {
     "data": {
      "text/html": [
       "<div>\n",
       "<style scoped>\n",
       "    .dataframe tbody tr th:only-of-type {\n",
       "        vertical-align: middle;\n",
       "    }\n",
       "\n",
       "    .dataframe tbody tr th {\n",
       "        vertical-align: top;\n",
       "    }\n",
       "\n",
       "    .dataframe thead th {\n",
       "        text-align: right;\n",
       "    }\n",
       "</style>\n",
       "<table border=\"1\" class=\"dataframe\">\n",
       "  <thead>\n",
       "    <tr style=\"text-align: right;\">\n",
       "      <th></th>\n",
       "      <th>Date</th>\n",
       "      <th>Open</th>\n",
       "      <th>High</th>\n",
       "      <th>Low</th>\n",
       "      <th>Close</th>\n",
       "      <th>WAP</th>\n",
       "      <th>No. of Shares</th>\n",
       "      <th>No. of Trades</th>\n",
       "      <th>Total Turnover</th>\n",
       "      <th>Deliverable Quantity</th>\n",
       "      <th>% Deli. Qty to Traded Qty</th>\n",
       "      <th>Spread H-L</th>\n",
       "      <th>Spread C-O</th>\n",
       "    </tr>\n",
       "  </thead>\n",
       "  <tbody>\n",
       "    <tr>\n",
       "      <th>0</th>\n",
       "      <td>2017-02-21</td>\n",
       "      <td>254.25</td>\n",
       "      <td>259.50</td>\n",
       "      <td>253.00</td>\n",
       "      <td>257.75</td>\n",
       "      <td>257.17</td>\n",
       "      <td>40544.0</td>\n",
       "      <td>1048.0</td>\n",
       "      <td>10426526.0</td>\n",
       "      <td>9129.0</td>\n",
       "      <td>22.52</td>\n",
       "      <td>6.50</td>\n",
       "      <td>3.50</td>\n",
       "    </tr>\n",
       "    <tr>\n",
       "      <th>1</th>\n",
       "      <td>2017-02-22</td>\n",
       "      <td>257.00</td>\n",
       "      <td>261.00</td>\n",
       "      <td>252.60</td>\n",
       "      <td>253.05</td>\n",
       "      <td>256.18</td>\n",
       "      <td>35603.0</td>\n",
       "      <td>1067.0</td>\n",
       "      <td>9120718.0</td>\n",
       "      <td>8450.0</td>\n",
       "      <td>23.73</td>\n",
       "      <td>8.40</td>\n",
       "      <td>-3.95</td>\n",
       "    </tr>\n",
       "    <tr>\n",
       "      <th>2</th>\n",
       "      <td>2017-02-23</td>\n",
       "      <td>253.30</td>\n",
       "      <td>254.60</td>\n",
       "      <td>249.20</td>\n",
       "      <td>250.55</td>\n",
       "      <td>251.99</td>\n",
       "      <td>26262.0</td>\n",
       "      <td>600.0</td>\n",
       "      <td>6617792.0</td>\n",
       "      <td>13570.0</td>\n",
       "      <td>51.67</td>\n",
       "      <td>5.40</td>\n",
       "      <td>-2.75</td>\n",
       "    </tr>\n",
       "    <tr>\n",
       "      <th>3</th>\n",
       "      <td>2017-02-27</td>\n",
       "      <td>251.40</td>\n",
       "      <td>252.00</td>\n",
       "      <td>244.00</td>\n",
       "      <td>247.50</td>\n",
       "      <td>249.58</td>\n",
       "      <td>28019.0</td>\n",
       "      <td>732.0</td>\n",
       "      <td>6992855.0</td>\n",
       "      <td>11992.0</td>\n",
       "      <td>42.80</td>\n",
       "      <td>8.00</td>\n",
       "      <td>-3.90</td>\n",
       "    </tr>\n",
       "    <tr>\n",
       "      <th>4</th>\n",
       "      <td>2017-02-28</td>\n",
       "      <td>248.50</td>\n",
       "      <td>253.50</td>\n",
       "      <td>247.60</td>\n",
       "      <td>248.50</td>\n",
       "      <td>249.88</td>\n",
       "      <td>66735.0</td>\n",
       "      <td>1514.0</td>\n",
       "      <td>16675820.0</td>\n",
       "      <td>13474.0</td>\n",
       "      <td>20.19</td>\n",
       "      <td>5.90</td>\n",
       "      <td>0.00</td>\n",
       "    </tr>\n",
       "    <tr>\n",
       "      <th>...</th>\n",
       "      <td>...</td>\n",
       "      <td>...</td>\n",
       "      <td>...</td>\n",
       "      <td>...</td>\n",
       "      <td>...</td>\n",
       "      <td>...</td>\n",
       "      <td>...</td>\n",
       "      <td>...</td>\n",
       "      <td>...</td>\n",
       "      <td>...</td>\n",
       "      <td>...</td>\n",
       "      <td>...</td>\n",
       "      <td>...</td>\n",
       "    </tr>\n",
       "    <tr>\n",
       "      <th>741</th>\n",
       "      <td>2020-02-20</td>\n",
       "      <td>124.60</td>\n",
       "      <td>131.95</td>\n",
       "      <td>124.60</td>\n",
       "      <td>128.45</td>\n",
       "      <td>128.69</td>\n",
       "      <td>36247.0</td>\n",
       "      <td>1399.0</td>\n",
       "      <td>4664620.0</td>\n",
       "      <td>15580.0</td>\n",
       "      <td>42.98</td>\n",
       "      <td>7.35</td>\n",
       "      <td>3.85</td>\n",
       "    </tr>\n",
       "    <tr>\n",
       "      <th>742</th>\n",
       "      <td>2020-02-24</td>\n",
       "      <td>127.70</td>\n",
       "      <td>130.00</td>\n",
       "      <td>125.55</td>\n",
       "      <td>127.30</td>\n",
       "      <td>127.81</td>\n",
       "      <td>24928.0</td>\n",
       "      <td>777.0</td>\n",
       "      <td>3186086.0</td>\n",
       "      <td>11696.0</td>\n",
       "      <td>46.92</td>\n",
       "      <td>4.45</td>\n",
       "      <td>-0.40</td>\n",
       "    </tr>\n",
       "    <tr>\n",
       "      <th>743</th>\n",
       "      <td>2020-02-25</td>\n",
       "      <td>127.35</td>\n",
       "      <td>128.45</td>\n",
       "      <td>124.40</td>\n",
       "      <td>125.10</td>\n",
       "      <td>125.91</td>\n",
       "      <td>13543.0</td>\n",
       "      <td>636.0</td>\n",
       "      <td>1705233.0</td>\n",
       "      <td>4976.0</td>\n",
       "      <td>36.74</td>\n",
       "      <td>4.05</td>\n",
       "      <td>-2.25</td>\n",
       "    </tr>\n",
       "    <tr>\n",
       "      <th>744</th>\n",
       "      <td>2020-02-26</td>\n",
       "      <td>128.00</td>\n",
       "      <td>128.00</td>\n",
       "      <td>121.05</td>\n",
       "      <td>121.45</td>\n",
       "      <td>122.17</td>\n",
       "      <td>15844.0</td>\n",
       "      <td>625.0</td>\n",
       "      <td>1935667.0</td>\n",
       "      <td>6774.0</td>\n",
       "      <td>42.75</td>\n",
       "      <td>6.95</td>\n",
       "      <td>-6.55</td>\n",
       "    </tr>\n",
       "    <tr>\n",
       "      <th>745</th>\n",
       "      <td>2020-02-27</td>\n",
       "      <td>120.60</td>\n",
       "      <td>120.60</td>\n",
       "      <td>117.20</td>\n",
       "      <td>119.75</td>\n",
       "      <td>119.24</td>\n",
       "      <td>13114.0</td>\n",
       "      <td>699.0</td>\n",
       "      <td>1563739.0</td>\n",
       "      <td>8109.0</td>\n",
       "      <td>61.83</td>\n",
       "      <td>3.40</td>\n",
       "      <td>-0.85</td>\n",
       "    </tr>\n",
       "  </tbody>\n",
       "</table>\n",
       "<p>746 rows × 13 columns</p>\n",
       "</div>"
      ],
      "text/plain": [
       "          Date    Open    High     Low   Close     WAP  No. of Shares  \\\n",
       "0   2017-02-21  254.25  259.50  253.00  257.75  257.17        40544.0   \n",
       "1   2017-02-22  257.00  261.00  252.60  253.05  256.18        35603.0   \n",
       "2   2017-02-23  253.30  254.60  249.20  250.55  251.99        26262.0   \n",
       "3   2017-02-27  251.40  252.00  244.00  247.50  249.58        28019.0   \n",
       "4   2017-02-28  248.50  253.50  247.60  248.50  249.88        66735.0   \n",
       "..         ...     ...     ...     ...     ...     ...            ...   \n",
       "741 2020-02-20  124.60  131.95  124.60  128.45  128.69        36247.0   \n",
       "742 2020-02-24  127.70  130.00  125.55  127.30  127.81        24928.0   \n",
       "743 2020-02-25  127.35  128.45  124.40  125.10  125.91        13543.0   \n",
       "744 2020-02-26  128.00  128.00  121.05  121.45  122.17        15844.0   \n",
       "745 2020-02-27  120.60  120.60  117.20  119.75  119.24        13114.0   \n",
       "\n",
       "     No. of Trades  Total Turnover  Deliverable Quantity  \\\n",
       "0           1048.0      10426526.0                9129.0   \n",
       "1           1067.0       9120718.0                8450.0   \n",
       "2            600.0       6617792.0               13570.0   \n",
       "3            732.0       6992855.0               11992.0   \n",
       "4           1514.0      16675820.0               13474.0   \n",
       "..             ...             ...                   ...   \n",
       "741         1399.0       4664620.0               15580.0   \n",
       "742          777.0       3186086.0               11696.0   \n",
       "743          636.0       1705233.0                4976.0   \n",
       "744          625.0       1935667.0                6774.0   \n",
       "745          699.0       1563739.0                8109.0   \n",
       "\n",
       "     % Deli. Qty to Traded Qty  Spread H-L  Spread C-O  \n",
       "0                        22.52        6.50        3.50  \n",
       "1                        23.73        8.40       -3.95  \n",
       "2                        51.67        5.40       -2.75  \n",
       "3                        42.80        8.00       -3.90  \n",
       "4                        20.19        5.90        0.00  \n",
       "..                         ...         ...         ...  \n",
       "741                      42.98        7.35        3.85  \n",
       "742                      46.92        4.45       -0.40  \n",
       "743                      36.74        4.05       -2.25  \n",
       "744                      42.75        6.95       -6.55  \n",
       "745                      61.83        3.40       -0.85  \n",
       "\n",
       "[746 rows x 13 columns]"
      ]
     },
     "execution_count": 5,
     "metadata": {},
     "output_type": "execute_result"
    }
   ],
   "source": [
    "df = df.reset_index()\n",
    "df"
   ]
  },
  {
   "cell_type": "code",
   "execution_count": 6,
   "metadata": {},
   "outputs": [
    {
     "name": "stderr",
     "output_type": "stream",
     "text": [
      "/home/ankit/anaconda3/envs/notebook/lib/python3.7/site-packages/pandas/plotting/_matplotlib/converter.py:103: FutureWarning: Using an implicitly registered datetime converter for a matplotlib plotting method. The converter was registered by pandas on import. Future versions of pandas will require you to explicitly register matplotlib converters.\n",
      "\n",
      "To register the converters:\n",
      "\t>>> from pandas.plotting import register_matplotlib_converters\n",
      "\t>>> register_matplotlib_converters()\n",
      "  warnings.warn(msg, FutureWarning)\n"
     ]
    },
    {
     "data": {
      "image/png": "[encoded data removed]",
      "text/plain": [
       "<Figure size 1152x576 with 1 Axes>"
      ]
     },
     "metadata": {
      "needs_background": "light"
     },
     "output_type": "display_data"
    }
   ],
   "source": [
    "import matplotlib.pyplot as plt\n",
    "plt.figure(figsize=(16,8))\n",
    "plt.plot(df.Date,df.Close)\n",
    "plt.show()"
   ]
  },
  {
   "cell_type": "code",
   "execution_count": 7,
   "metadata": {},
   "outputs": [
    {
     "name": "stdout",
     "output_type": "stream",
     "text": [
      "<class 'pandas.core.frame.DataFrame'>\n",
      "RangeIndex: 746 entries, 0 to 745\n",
      "Data columns (total 13 columns):\n",
      "Date                         746 non-null datetime64[ns]\n",
      "Open                         746 non-null float64\n",
      "High                         746 non-null float64\n",
      "Low                          746 non-null float64\n",
      "Close                        746 non-null float64\n",
      "WAP                          746 non-null float64\n",
      "No. of Shares                746 non-null float64\n",
      "No. of Trades                746 non-null float64\n",
      "Total Turnover               746 non-null float64\n",
      "Deliverable Quantity         745 non-null float64\n",
      "% Deli. Qty to Traded Qty    745 non-null float64\n",
      "Spread H-L                   746 non-null float64\n",
      "Spread C-O                   746 non-null float64\n",
      "dtypes: datetime64[ns](1), float64(12)\n",
      "memory usage: 75.9 KB\n"
     ]
    }
   ],
   "source": [
    "df.info()"
   ]
  },
  {
   "cell_type": "code",
   "execution_count": 8,
   "metadata": {},
   "outputs": [
    {
     "data": {
      "text/plain": [
       "Index(['Date', 'Open', 'High', 'Low', 'Close', 'WAP', 'No. of Shares',\n",
       "       'No. of Trades', 'Total Turnover', 'Deliverable Quantity',\n",
       "       '% Deli. Qty to Traded Qty', 'Spread H-L', 'Spread C-O'],\n",
       "      dtype='object')"
      ]
     },
     "execution_count": 8,
     "metadata": {},
     "output_type": "execute_result"
    }
   ],
   "source": [
    "df.columns"
   ]
  },
  {
   "cell_type": "code",
   "execution_count": 9,
   "metadata": {},
   "outputs": [],
   "source": [
    "df[\"Date\"] = df[\"Date\"].astype(str)"
   ]
  },
  {
   "cell_type": "code",
   "execution_count": 10,
   "metadata": {},
   "outputs": [
    {
     "name": "stdout",
     "output_type": "stream",
     "text": [
      "<class 'pandas.core.frame.DataFrame'>\n",
      "RangeIndex: 746 entries, 0 to 745\n",
      "Data columns (total 13 columns):\n",
      "Date                         746 non-null object\n",
      "Open                         746 non-null float64\n",
      "High                         746 non-null float64\n",
      "Low                          746 non-null float64\n",
      "Close                        746 non-null float64\n",
      "WAP                          746 non-null float64\n",
      "No. of Shares                746 non-null float64\n",
      "No. of Trades                746 non-null float64\n",
      "Total Turnover               746 non-null float64\n",
      "Deliverable Quantity         745 non-null float64\n",
      "% Deli. Qty to Traded Qty    745 non-null float64\n",
      "Spread H-L                   746 non-null float64\n",
      "Spread C-O                   746 non-null float64\n",
      "dtypes: float64(12), object(1)\n",
      "memory usage: 75.9+ KB\n"
     ]
    }
   ],
   "source": [
    "df.info()"
   ]
  },
  {
   "cell_type": "code",
   "execution_count": 11,
   "metadata": {},
   "outputs": [],
   "source": [
    "dd = df[\"Date\"].str.split(\"-\" ,n = -1,expand = True)\n",
    "df[\"Year\"] = dd[0]\n",
    "df[\"month\"] = dd[1]\n",
    "df[\"Day\"] = dd[2]"
   ]
  },
  {
   "cell_type": "code",
   "execution_count": 12,
   "metadata": {},
   "outputs": [],
   "source": [
    "df[\"Year\"] = df[\"Year\"].astype(int)\n",
    "df[\"month\"] = df[\"month\"].astype(int)\n",
    "df[\"Day\"] = df[\"Day\"].astype(int)"
   ]
  },
  {
   "cell_type": "code",
   "execution_count": 13,
   "metadata": {},
   "outputs": [
    {
     "name": "stdout",
     "output_type": "stream",
     "text": [
      "<class 'pandas.core.frame.DataFrame'>\n",
      "RangeIndex: 746 entries, 0 to 745\n",
      "Data columns (total 16 columns):\n",
      "Date                         746 non-null object\n",
      "Open                         746 non-null float64\n",
      "High                         746 non-null float64\n",
      "Low                          746 non-null float64\n",
      "Close                        746 non-null float64\n",
      "WAP                          746 non-null float64\n",
      "No. of Shares                746 non-null float64\n",
      "No. of Trades                746 non-null float64\n",
      "Total Turnover               746 non-null float64\n",
      "Deliverable Quantity         745 non-null float64\n",
      "% Deli. Qty to Traded Qty    745 non-null float64\n",
      "Spread H-L                   746 non-null float64\n",
      "Spread C-O                   746 non-null float64\n",
      "Year                         746 non-null int64\n",
      "month                        746 non-null int64\n",
      "Day                          746 non-null int64\n",
      "dtypes: float64(12), int64(3), object(1)\n",
      "memory usage: 93.4+ KB\n"
     ]
    }
   ],
   "source": [
    "df.info()"
   ]
  },
  {
   "cell_type": "code",
   "execution_count": 14,
   "metadata": {},
   "outputs": [
    {
     "data": {
      "text/plain": [
       "array([[2.0170e+03, 2.0000e+00, 2.1000e+01, 2.5425e+02],\n",
       "       [2.0170e+03, 2.0000e+00, 2.2000e+01, 2.5700e+02],\n",
       "       [2.0170e+03, 2.0000e+00, 2.3000e+01, 2.5330e+02],\n",
       "       ...,\n",
       "       [2.0200e+03, 2.0000e+00, 2.5000e+01, 1.2735e+02],\n",
       "       [2.0200e+03, 2.0000e+00, 2.6000e+01, 1.2800e+02],\n",
       "       [2.0200e+03, 2.0000e+00, 2.7000e+01, 1.2060e+02]])"
      ]
     },
     "execution_count": 14,
     "metadata": {},
     "output_type": "execute_result"
    }
   ],
   "source": [
    "X = df[[\"Year\",\"month\",\"Day\",\"Open\"]].values\n",
    "X"
   ]
  },
  {
   "cell_type": "code",
   "execution_count": 15,
   "metadata": {},
   "outputs": [
    {
     "data": {
      "text/plain": [
       "array([257.75, 253.05, 250.55, 247.5 , 248.5 , 247.9 , 245.1 , 243.85,\n",
       "       244.7 , 241.15, 240.05, 238.95, 240.45, 242.55, 242.85, 244.05,\n",
       "       239.8 , 238.85, 235.15, 238.75, 237.6 , 238.3 , 237.15, 237.65,\n",
       "       235.7 , 237.45, 236.55, 239.  , 250.65, 246.9 , 252.25, 255.25,\n",
       "       254.5 , 249.3 , 249.85, 249.15, 247.2 , 243.65, 245.65, 245.6 ,\n",
       "       244.15, 247.6 , 245.25, 245.8 , 245.2 , 243.1 , 246.7 , 244.7 ,\n",
       "       239.45, 241.2 , 242.9 , 242.3 , 244.4 , 242.2 , 233.55, 235.15,\n",
       "       232.4 , 224.8 , 218.45, 215.95, 211.9 , 204.  , 208.85, 212.65,\n",
       "       205.55, 203.1 , 209.35, 218.55, 214.05, 216.4 , 216.5 , 212.75,\n",
       "       213.55, 213.4 , 209.9 , 207.2 , 209.7 , 210.05, 210.8 , 211.55,\n",
       "       210.05, 208.35, 211.45, 207.3 , 206.75, 208.2 , 208.35, 206.75,\n",
       "       207.25, 205.35, 202.6 , 204.3 , 221.  , 219.6 , 224.65, 223.25,\n",
       "       228.  , 221.65, 222.7 , 225.3 , 226.15, 224.8 , 221.6 , 220.1 ,\n",
       "       219.25, 217.6 , 213.55, 214.15, 213.05, 213.45, 212.15, 208.5 ,\n",
       "       208.6 , 212.  , 208.75, 205.3 , 192.1 , 190.6 , 183.4 , 188.15,\n",
       "       187.2 , 183.85, 180.15, 175.65, 177.15, 176.3 , 174.6 , 175.7 ,\n",
       "       183.5 , 190.65, 197.4 , 193.6 , 195.35, 192.85, 199.6 , 197.65,\n",
       "       195.  , 196.75, 193.55, 194.7 , 190.15, 191.65, 193.15, 191.95,\n",
       "       189.2 , 185.  , 180.95, 181.2 , 176.75, 177.7 , 179.2 , 183.  ,\n",
       "       184.3 , 182.95, 185.8 , 189.85, 190.85, 192.05, 192.75, 188.4 ,\n",
       "       186.25, 186.2 , 183.1 , 185.75, 186.2 , 185.4 , 185.15, 189.9 ,\n",
       "       192.65, 194.25, 195.35, 196.8 , 197.85, 195.8 , 193.85, 190.5 ,\n",
       "       187.85, 189.15, 196.9 , 208.4 , 216.5 , 218.05, 223.35, 217.15,\n",
       "       218.4 , 222.8 , 222.3 , 231.25, 225.4 , 221.15, 223.45, 225.15,\n",
       "       225.9 , 229.85, 229.2 , 244.9 , 238.5 , 242.85, 256.75, 268.75,\n",
       "       259.8 , 251.15, 249.5 , 251.9 , 272.25, 274.65, 278.3 , 286.2 ,\n",
       "       291.45, 323.45, 312.65, 317.65, 313.  , 315.05, 303.2 , 313.95,\n",
       "       314.75, 313.3 , 319.45, 374.6 , 362.4 , 383.6 , 377.95, 378.6 ,\n",
       "       358.05, 367.45, 346.65, 352.8 , 353.8 , 364.15, 363.2 , 361.6 ,\n",
       "       354.8 , 342.8 , 337.35, 337.3 , 311.9 , 316.35, 307.65, 309.35,\n",
       "       310.4 , 308.1 , 316.6 , 315.65, 314.4 , 305.25, 300.45, 296.45,\n",
       "       295.45, 290.4 , 295.95, 299.75, 296.1 , 293.8 , 288.6 , 276.05,\n",
       "       271.55, 265.85, 267.15, 261.8 , 269.15, 278.1 , 277.7 , 306.15,\n",
       "       297.  , 282.  , 283.4 , 284.8 , 279.35, 279.75, 279.25, 278.1 ,\n",
       "       265.6 , 291.45, 299.45, 288.9 , 298.4 , 298.8 , 307.65, 308.65,\n",
       "       304.25, 302.3 , 302.25, 303.05, 306.3 , 305.05, 316.65, 324.8 ,\n",
       "       326.7 , 335.3 , 331.55, 329.7 , 332.7 , 333.3 , 342.35, 329.65,\n",
       "       337.55, 344.15, 348.2 , 346.55, 335.5 , 340.1 , 324.5 , 316.65,\n",
       "       315.3 , 313.25, 303.6 , 304.25, 305.25, 303.35, 302.2 , 306.7 ,\n",
       "       319.2 , 314.6 , 311.9 , 309.45, 298.7 , 289.6 , 273.65, 291.25,\n",
       "       295.4 , 296.35, 296.9 , 299.05, 304.25, 303.65, 299.2 , 289.55,\n",
       "       284.1 , 286.7 , 281.9 , 281.5 , 276.3 , 276.4 , 266.85, 268.8 ,\n",
       "       272.15, 273.8 , 272.35, 271.7 , 270.6 , 271.9 , 279.5 , 282.8 ,\n",
       "       277.65, 275.55, 272.15, 260.7 , 258.9 , 254.4 , 250.55, 248.55,\n",
       "       254.6 , 268.45, 262.8 , 261.55, 265.4 , 269.7 , 266.7 , 265.3 ,\n",
       "       268.9 , 277.15, 272.25, 277.85, 280.9 , 272.95, 261.55, 260.55,\n",
       "       264.2 , 265.5 , 266.5 , 265.1 , 264.  , 258.2 , 251.9 , 256.7 ,\n",
       "       260.  , 259.65, 260.85, 281.2 , 269.6 , 261.5 , 253.25, 255.55,\n",
       "       266.35, 260.7 , 256.55, 256.95, 261.  , 267.55, 261.85, 258.2 ,\n",
       "       239.35, 229.3 , 226.7 , 230.2 , 225.25, 211.25, 207.75, 212.55,\n",
       "       207.35, 197.05, 185.25, 184.6 , 194.5 , 191.2 , 194.05, 200.2 ,\n",
       "       199.25, 188.3 , 191.5 , 189.25, 185.8 , 185.55, 186.5 , 185.1 ,\n",
       "       193.3 , 196.75, 201.75, 206.45, 206.95, 207.4 , 207.25, 209.9 ,\n",
       "       220.85, 224.65, 209.15, 213.45, 209.15, 209.2 , 206.05, 202.45,\n",
       "       200.9 , 198.2 , 198.9 , 198.15, 196.2 , 196.85, 194.6 , 190.3 ,\n",
       "       190.25, 188.1 , 185.45, 183.9 , 181.5 , 184.85, 187.2 , 188.75,\n",
       "       190.2 , 197.2 , 209.9 , 227.7 , 222.6 , 212.4 , 212.4 , 204.75,\n",
       "       209.8 , 212.9 , 212.85, 212.  , 210.6 , 209.1 , 207.  , 207.  ,\n",
       "       205.8 , 211.55, 210.8 , 211.85, 208.  , 210.65, 209.65, 209.65,\n",
       "       207.15, 201.65, 195.95, 199.2 , 195.15, 189.15, 187.6 , 186.1 ,\n",
       "       185.15, 188.8 , 188.95, 186.15, 185.15, 183.4 , 183.4 , 181.15,\n",
       "       183.05, 181.75, 181.35, 182.4 , 180.35, 174.35, 174.05, 177.5 ,\n",
       "       180.5 , 192.55, 203.9 , 197.25, 202.05, 216.75, 218.5 , 224.2 ,\n",
       "       233.25, 233.2 , 230.75, 232.8 , 231.05, 228.05, 225.25, 225.9 ,\n",
       "       225.3 , 227.4 , 227.05, 224.75, 223.45, 222.1 , 226.7 , 228.7 ,\n",
       "       225.65, 226.  , 225.65, 224.45, 222.  , 222.75, 221.4 , 222.05,\n",
       "       221.1 , 220.75, 220.75, 224.05, 222.2 , 230.35, 236.3 , 238.45,\n",
       "       239.65, 223.5 , 218.5 , 209.2 , 200.35, 199.3 , 223.55, 213.4 ,\n",
       "       206.9 , 208.3 , 208.6 , 184.9 , 184.9 , 178.  , 173.7 , 175.55,\n",
       "       179.45, 175.05, 177.45, 177.75, 184.5 , 191.65, 192.7 , 193.  ,\n",
       "       189.7 , 189.9 , 189.05, 189.45, 187.4 , 184.9 , 181.4 , 178.95,\n",
       "       183.85, 178.55, 175.7 , 168.15, 152.65, 159.2 , 163.05, 161.85,\n",
       "       161.55, 159.95, 165.05, 171.5 , 167.25, 168.95, 165.2 , 165.9 ,\n",
       "       166.85, 163.45, 163.25, 161.  , 158.15, 158.3 , 153.7 , 153.  ,\n",
       "       154.7 , 153.  , 144.55, 135.7 , 127.95, 130.15, 129.85, 127.4 ,\n",
       "       132.15, 127.15, 122.  , 123.1 , 116.25, 118.85, 118.25, 126.  ,\n",
       "       125.65, 134.35, 122.9 , 119.55, 118.1 , 117.95, 119.35, 115.  ,\n",
       "       110.7 , 104.55, 105.2 , 107.8 , 111.8 , 118.1 , 113.  , 112.75,\n",
       "       108.35, 109.05, 111.9 , 114.5 , 118.3 , 127.05, 122.65, 121.6 ,\n",
       "       127.2 , 119.85, 138.2 , 141.5 , 132.35, 132.45, 140.95, 135.7 ,\n",
       "       136.4 , 135.15, 131.65, 127.2 , 123.35, 120.8 , 116.15, 117.9 ,\n",
       "       117.35, 115.15, 115.05, 115.2 , 116.35, 121.15, 124.15, 123.15,\n",
       "       124.6 , 122.2 , 122.15, 123.05, 124.75, 129.05, 131.8 , 131.4 ,\n",
       "       129.75, 127.45, 143.8 , 139.3 , 139.35, 139.  , 133.6 , 133.1 ,\n",
       "       129.75, 127.5 , 129.05, 129.1 , 126.6 , 127.2 , 127.1 , 130.85,\n",
       "       134.6 , 132.7 , 130.2 , 132.8 , 137.5 , 135.6 , 134.65, 131.9 ,\n",
       "       129.6 , 128.  , 125.55, 126.6 , 127.2 , 125.05, 126.2 , 125.8 ,\n",
       "       125.85, 125.45, 124.05, 123.6 , 130.95, 129.95, 128.55, 127.4 ,\n",
       "       130.1 , 133.75, 134.75, 129.55, 128.5 , 127.2 , 132.  , 131.  ,\n",
       "       134.1 , 135.5 , 140.7 , 139.65, 137.75, 136.6 , 137.45, 134.9 ,\n",
       "       134.95, 135.4 , 133.15, 130.8 , 131.  , 128.75, 125.75, 124.2 ,\n",
       "       123.15, 124.8 , 127.  , 124.6 , 125.25, 121.  , 119.25, 116.3 ,\n",
       "       115.15, 123.45, 130.1 , 126.25, 125.45, 128.45, 127.3 , 125.1 ,\n",
       "       121.45, 119.75])"
      ]
     },
     "execution_count": 15,
     "metadata": {},
     "output_type": "execute_result"
    }
   ],
   "source": [
    "y = df[\"Close\"].values\n",
    "y"
   ]
  },
  {
   "cell_type": "code",
   "execution_count": 16,
   "metadata": {},
   "outputs": [],
   "source": [
    "from sklearn.model_selection import train_test_split"
   ]
  },
  {
   "cell_type": "code",
   "execution_count": 17,
   "metadata": {},
   "outputs": [],
   "source": [
    "X_train, X_test, y_train, y_test = train_test_split(X,y,test_size=0.20,random_state=50)"
   ]
  },
  {
   "cell_type": "code",
   "execution_count": 18,
   "metadata": {},
   "outputs": [
    {
     "data": {
      "text/plain": [
       "(596, 4)"
      ]
     },
     "execution_count": 18,
     "metadata": {},
     "output_type": "execute_result"
    }
   ],
   "source": [
    "X_train.shape"
   ]
  },
  {
   "cell_type": "code",
   "execution_count": 19,
   "metadata": {},
   "outputs": [
    {
     "data": {
      "text/plain": [
       "(596,)"
      ]
     },
     "execution_count": 19,
     "metadata": {},
     "output_type": "execute_result"
    }
   ],
   "source": [
    "y_train.shape"
   ]
  },
  {
   "cell_type": "code",
   "execution_count": 20,
   "metadata": {},
   "outputs": [
    {
     "data": {
      "text/plain": [
       "(150, 4)"
      ]
     },
     "execution_count": 20,
     "metadata": {},
     "output_type": "execute_result"
    }
   ],
   "source": [
    "X_test.shape"
   ]
  },
  {
   "cell_type": "code",
   "execution_count": 21,
   "metadata": {},
   "outputs": [
    {
     "data": {
      "text/plain": [
       "(150,)"
      ]
     },
     "execution_count": 21,
     "metadata": {},
     "output_type": "execute_result"
    }
   ],
   "source": [
    "y_test.shape"
   ]
  },
  {
   "cell_type": "markdown",
   "metadata": {},
   "source": [
    "# PREDICTIONS AND SCORES"
   ]
  },
  {
   "cell_type": "code",
   "execution_count": 27,
   "metadata": {},
   "outputs": [],
   "source": [
    "from sklearn.preprocessing import StandardScaler\n",
    "sc = StandardScaler()\n",
    "X_train = sc.fit_transform(X_train)\n",
    "X_test = sc.transform(X_test)"
   ]
  },
  {
   "cell_type": "code",
   "execution_count": 46,
   "metadata": {},
   "outputs": [
    {
     "data": {
      "text/plain": [
       "0.8070997453018802"
      ]
     },
     "execution_count": 46,
     "metadata": {},
     "output_type": "execute_result"
    }
   ],
   "source": [
    "from sklearn.svm import SVR\n",
    "regressor = SVR(kernel = 'rbf')\n",
    "regressor.fit(X_train, y_train)\n",
    "regressor.score(X_train,y_train)"
   ]
  },
  {
   "cell_type": "code",
   "execution_count": 48,
   "metadata": {},
   "outputs": [
    {
     "data": {
      "text/plain": [
       "array([204.66379861])"
      ]
     },
     "execution_count": 48,
     "metadata": {},
     "output_type": "execute_result"
    }
   ],
   "source": [
    "y_pred = regressor.predict([[2017,2,21,254.25]])\n",
    "y_pred\n",
    "#Predicted Values"
   ]
  },
  {
   "cell_type": "markdown",
   "metadata": {},
   "source": [
    "# Actual Values\n",
    "     Date\t      Open\t   High\t   Low\t    Close\t\n",
    "\t2017-02-21\t254.25\t259.50\t 253.00\t  257.75\n"
   ]
  },
  {
   "cell_type": "code",
   "execution_count": 49,
   "metadata": {},
   "outputs": [
    {
     "data": {
      "text/plain": [
       "0.9984898290301376"
      ]
     },
     "execution_count": 49,
     "metadata": {},
     "output_type": "execute_result"
    }
   ],
   "source": [
    "from sklearn.ensemble import RandomForestRegressor\n",
    "rfr = RandomForestRegressor(n_estimators =300, random_state = 0)\n",
    "rfr.fit(X, y)\n",
    "rfr.score(X,y)"
   ]
  },
  {
   "cell_type": "code",
   "execution_count": 51,
   "metadata": {},
   "outputs": [
    {
     "data": {
      "text/plain": [
       "array([255.481])"
      ]
     },
     "execution_count": 51,
     "metadata": {},
     "output_type": "execute_result"
    }
   ],
   "source": [
    "y_pred = rfr.predict([[2017,2,21,254.25]])\n",
    "y_pred\n",
    "#Predicted Values"
   ]
  },
  {
   "cell_type": "markdown",
   "metadata": {},
   "source": [
    "# Actual Values\n",
    "     Date\t      Open\t   High\t   Low\t    Close\t\n",
    "\t2017-02-21\t254.25\t259.50\t 253.00\t  257.75\n",
    "\n"
   ]
  },
  {
   "cell_type": "code",
   "execution_count": 54,
   "metadata": {},
   "outputs": [
    {
     "data": {
      "text/plain": [
       "1.0"
      ]
     },
     "execution_count": 54,
     "metadata": {},
     "output_type": "execute_result"
    }
   ],
   "source": [
    "from sklearn.tree import DecisionTreeRegressor\n",
    "dtr = DecisionTreeRegressor(random_state =0 )\n",
    "dtr.fit(X, y)\n",
    "dtr.score(X,y)\n",
    "\n",
    "# Actual Values\n"
   ]
  },
  {
   "cell_type": "code",
   "execution_count": 52,
   "metadata": {},
   "outputs": [
    {
     "data": {
      "text/plain": [
       "array([257.75])"
      ]
     },
     "execution_count": 52,
     "metadata": {},
     "output_type": "execute_result"
    }
   ],
   "source": [
    "y_pred = dtr.predict([[2017,2,21,254.25]])\n",
    "y_pred"
   ]
  },
  {
   "cell_type": "markdown",
   "metadata": {},
   "source": [
    "# Actual Values\n",
    "     Date\t      Open\t   High\t   Low\t    Close\t\n",
    "\t2017-02-21\t254.25\t259.50\t 253.00\t  257.75\n",
    "\n"
   ]
  },
  {
   "cell_type": "markdown",
   "metadata": {},
   "source": [
    "# Our Predicted Values Match The Actual Closing Values"
   ]
  }
 ],
 "metadata": {
  "kernelspec": {
   "display_name": "Python 3",
   "language": "python",
   "name": "python3"
  },
  "language_info": {
   "codemirror_mode": {
    "name": "ipython",
    "version": 3
   },
   "file_extension": ".py",
   "mimetype": "text/x-python",
   "name": "python",
   "nbconvert_exporter": "python",
   "pygments_lexer": "ipython3",
   "version": "3.7.5"
  }
 },
 "nbformat": 4,
 "nbformat_minor": 2
}
