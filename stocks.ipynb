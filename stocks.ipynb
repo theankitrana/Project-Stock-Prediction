{
  "nbformat": 4,
  "nbformat_minor": 0,
  "metadata": {
    "colab": {
      "name": "stocks.ipynb",
      "provenance": [],
      "authorship_tag": "ABX9TyPjElErSuLFMH54xMYAFPLw",
      "include_colab_link": true
    },
    "kernelspec": {
      "name": "python3",
      "display_name": "Python 3"
    }
  },
  "cells": [
    {
      "cell_type": "markdown",
      "metadata": {
        "id": "view-in-github",
        "colab_type": "text"
      },
      "source": [
        "<a href=\"https://colab.research.google.com/github/theankitrana/Project-Stock-Prediction/blob/master/stocks.ipynb\" target=\"_parent\"><img src=\"https://colab.research.google.com/assets/colab-badge.svg\" alt=\"Open In Colab\"/></a>"
      ]
    },
    {
      "cell_type": "code",
      "metadata": {
        "id": "PnGroIVe82Pa",
        "colab_type": "code",
        "colab": {}
      },
      "source": [
        "import pandas as pd\n",
        "import numpy as np\n",
        "import matplotlib as plt\n",
        "import quandl\n",
        "import seaborn as sns"
      ],
      "execution_count": 50,
      "outputs": []
    },
    {
      "cell_type": "markdown",
      "metadata": {
        "id": "VooL1rKedHi3",
        "colab_type": "text"
      },
      "source": [
        "\n",
        "**Quick Heal Technologies**\n",
        "\n",
        "*    Bombay Stock Exchange Data From Quandl*\n",
        "\n"
      ]
    },
    {
      "cell_type": "code",
      "metadata": {
        "id": "Cf6-CB9r8-QM",
        "colab_type": "code",
        "colab": {}
      },
      "source": [
        "dataset=quandl.get(\"BSE/BOM539678\", authtoken=\"u_aKp8ws2STjJmgBcaD-\")"
      ],
      "execution_count": 51,
      "outputs": []
    },
    {
      "cell_type": "code",
      "metadata": {
        "id": "WOz_Vp-J9G9y",
        "colab_type": "code",
        "colab": {
          "base_uri": "https://localhost:8080/",
          "height": 473
        },
        "outputId": "0245af25-b342-42db-d8b6-49c4074118f3"
      },
      "source": [
        "df=pd.DataFrame(dataset)\n",
        "df"
      ],
      "execution_count": 52,
      "outputs": [
        {
          "output_type": "execute_result",
          "data": {
            "text/html": [
              "<div>\n",
              "<style scoped>\n",
              "    .dataframe tbody tr th:only-of-type {\n",
              "        vertical-align: middle;\n",
              "    }\n",
              "\n",
              "    .dataframe tbody tr th {\n",
              "        vertical-align: top;\n",
              "    }\n",
              "\n",
              "    .dataframe thead th {\n",
              "        text-align: right;\n",
              "    }\n",
              "</style>\n",
              "<table border=\"1\" class=\"dataframe\">\n",
              "  <thead>\n",
              "    <tr style=\"text-align: right;\">\n",
              "      <th></th>\n",
              "      <th>Open</th>\n",
              "      <th>High</th>\n",
              "      <th>Low</th>\n",
              "      <th>Close</th>\n",
              "      <th>WAP</th>\n",
              "      <th>No. of Shares</th>\n",
              "      <th>No. of Trades</th>\n",
              "      <th>Total Turnover</th>\n",
              "      <th>Deliverable Quantity</th>\n",
              "      <th>% Deli. Qty to Traded Qty</th>\n",
              "      <th>Spread H-L</th>\n",
              "      <th>Spread C-O</th>\n",
              "    </tr>\n",
              "    <tr>\n",
              "      <th>Date</th>\n",
              "      <th></th>\n",
              "      <th></th>\n",
              "      <th></th>\n",
              "      <th></th>\n",
              "      <th></th>\n",
              "      <th></th>\n",
              "      <th></th>\n",
              "      <th></th>\n",
              "      <th></th>\n",
              "      <th></th>\n",
              "      <th></th>\n",
              "      <th></th>\n",
              "    </tr>\n",
              "  </thead>\n",
              "  <tbody>\n",
              "    <tr>\n",
              "      <th>2017-02-21</th>\n",
              "      <td>254.25</td>\n",
              "      <td>259.50</td>\n",
              "      <td>253.00</td>\n",
              "      <td>257.75</td>\n",
              "      <td>257.17</td>\n",
              "      <td>40544.0</td>\n",
              "      <td>1048.0</td>\n",
              "      <td>10426526.0</td>\n",
              "      <td>9129.0</td>\n",
              "      <td>22.52</td>\n",
              "      <td>6.50</td>\n",
              "      <td>3.50</td>\n",
              "    </tr>\n",
              "    <tr>\n",
              "      <th>2017-02-22</th>\n",
              "      <td>257.00</td>\n",
              "      <td>261.00</td>\n",
              "      <td>252.60</td>\n",
              "      <td>253.05</td>\n",
              "      <td>256.18</td>\n",
              "      <td>35603.0</td>\n",
              "      <td>1067.0</td>\n",
              "      <td>9120718.0</td>\n",
              "      <td>8450.0</td>\n",
              "      <td>23.73</td>\n",
              "      <td>8.40</td>\n",
              "      <td>-3.95</td>\n",
              "    </tr>\n",
              "    <tr>\n",
              "      <th>2017-02-23</th>\n",
              "      <td>253.30</td>\n",
              "      <td>254.60</td>\n",
              "      <td>249.20</td>\n",
              "      <td>250.55</td>\n",
              "      <td>251.99</td>\n",
              "      <td>26262.0</td>\n",
              "      <td>600.0</td>\n",
              "      <td>6617792.0</td>\n",
              "      <td>13570.0</td>\n",
              "      <td>51.67</td>\n",
              "      <td>5.40</td>\n",
              "      <td>-2.75</td>\n",
              "    </tr>\n",
              "    <tr>\n",
              "      <th>2017-02-27</th>\n",
              "      <td>251.40</td>\n",
              "      <td>252.00</td>\n",
              "      <td>244.00</td>\n",
              "      <td>247.50</td>\n",
              "      <td>249.58</td>\n",
              "      <td>28019.0</td>\n",
              "      <td>732.0</td>\n",
              "      <td>6992855.0</td>\n",
              "      <td>11992.0</td>\n",
              "      <td>42.80</td>\n",
              "      <td>8.00</td>\n",
              "      <td>-3.90</td>\n",
              "    </tr>\n",
              "    <tr>\n",
              "      <th>2017-02-28</th>\n",
              "      <td>248.50</td>\n",
              "      <td>253.50</td>\n",
              "      <td>247.60</td>\n",
              "      <td>248.50</td>\n",
              "      <td>249.88</td>\n",
              "      <td>66735.0</td>\n",
              "      <td>1514.0</td>\n",
              "      <td>16675820.0</td>\n",
              "      <td>13474.0</td>\n",
              "      <td>20.19</td>\n",
              "      <td>5.90</td>\n",
              "      <td>0.00</td>\n",
              "    </tr>\n",
              "    <tr>\n",
              "      <th>...</th>\n",
              "      <td>...</td>\n",
              "      <td>...</td>\n",
              "      <td>...</td>\n",
              "      <td>...</td>\n",
              "      <td>...</td>\n",
              "      <td>...</td>\n",
              "      <td>...</td>\n",
              "      <td>...</td>\n",
              "      <td>...</td>\n",
              "      <td>...</td>\n",
              "      <td>...</td>\n",
              "      <td>...</td>\n",
              "    </tr>\n",
              "    <tr>\n",
              "      <th>2020-06-16</th>\n",
              "      <td>105.00</td>\n",
              "      <td>113.45</td>\n",
              "      <td>102.55</td>\n",
              "      <td>108.05</td>\n",
              "      <td>108.77</td>\n",
              "      <td>64804.0</td>\n",
              "      <td>2865.0</td>\n",
              "      <td>7048765.0</td>\n",
              "      <td>12476.0</td>\n",
              "      <td>19.25</td>\n",
              "      <td>10.90</td>\n",
              "      <td>3.05</td>\n",
              "    </tr>\n",
              "    <tr>\n",
              "      <th>2020-06-17</th>\n",
              "      <td>105.60</td>\n",
              "      <td>113.70</td>\n",
              "      <td>105.55</td>\n",
              "      <td>109.65</td>\n",
              "      <td>111.23</td>\n",
              "      <td>112108.0</td>\n",
              "      <td>3838.0</td>\n",
              "      <td>12469652.0</td>\n",
              "      <td>40649.0</td>\n",
              "      <td>36.26</td>\n",
              "      <td>8.15</td>\n",
              "      <td>4.05</td>\n",
              "    </tr>\n",
              "    <tr>\n",
              "      <th>2020-06-18</th>\n",
              "      <td>110.00</td>\n",
              "      <td>113.00</td>\n",
              "      <td>109.50</td>\n",
              "      <td>111.15</td>\n",
              "      <td>111.64</td>\n",
              "      <td>24719.0</td>\n",
              "      <td>1334.0</td>\n",
              "      <td>2759625.0</td>\n",
              "      <td>9394.0</td>\n",
              "      <td>38.00</td>\n",
              "      <td>3.50</td>\n",
              "      <td>1.15</td>\n",
              "    </tr>\n",
              "    <tr>\n",
              "      <th>2020-06-19</th>\n",
              "      <td>112.45</td>\n",
              "      <td>112.90</td>\n",
              "      <td>109.10</td>\n",
              "      <td>109.85</td>\n",
              "      <td>111.10</td>\n",
              "      <td>32433.0</td>\n",
              "      <td>958.0</td>\n",
              "      <td>3603229.0</td>\n",
              "      <td>13739.0</td>\n",
              "      <td>42.36</td>\n",
              "      <td>3.80</td>\n",
              "      <td>-2.60</td>\n",
              "    </tr>\n",
              "    <tr>\n",
              "      <th>2020-06-22</th>\n",
              "      <td>108.70</td>\n",
              "      <td>112.30</td>\n",
              "      <td>108.25</td>\n",
              "      <td>109.30</td>\n",
              "      <td>109.97</td>\n",
              "      <td>19992.0</td>\n",
              "      <td>875.0</td>\n",
              "      <td>2198468.0</td>\n",
              "      <td>10831.0</td>\n",
              "      <td>54.18</td>\n",
              "      <td>4.05</td>\n",
              "      <td>0.60</td>\n",
              "    </tr>\n",
              "  </tbody>\n",
              "</table>\n",
              "<p>821 rows × 12 columns</p>\n",
              "</div>"
            ],
            "text/plain": [
              "              Open    High  ...  Spread H-L  Spread C-O\n",
              "Date                        ...                        \n",
              "2017-02-21  254.25  259.50  ...        6.50        3.50\n",
              "2017-02-22  257.00  261.00  ...        8.40       -3.95\n",
              "2017-02-23  253.30  254.60  ...        5.40       -2.75\n",
              "2017-02-27  251.40  252.00  ...        8.00       -3.90\n",
              "2017-02-28  248.50  253.50  ...        5.90        0.00\n",
              "...            ...     ...  ...         ...         ...\n",
              "2020-06-16  105.00  113.45  ...       10.90        3.05\n",
              "2020-06-17  105.60  113.70  ...        8.15        4.05\n",
              "2020-06-18  110.00  113.00  ...        3.50        1.15\n",
              "2020-06-19  112.45  112.90  ...        3.80       -2.60\n",
              "2020-06-22  108.70  112.30  ...        4.05        0.60\n",
              "\n",
              "[821 rows x 12 columns]"
            ]
          },
          "metadata": {
            "tags": []
          },
          "execution_count": 52
        }
      ]
    },
    {
      "cell_type": "code",
      "metadata": {
        "id": "liePm6AX9MX-",
        "colab_type": "code",
        "colab": {
          "base_uri": "https://localhost:8080/",
          "height": 441
        },
        "outputId": "8ff663a3-3975-4533-ca10-64acdad8bf66"
      },
      "source": [
        "df = df.reset_index()\n",
        "df"
      ],
      "execution_count": 53,
      "outputs": [
        {
          "output_type": "execute_result",
          "data": {
            "text/html": [
              "<div>\n",
              "<style scoped>\n",
              "    .dataframe tbody tr th:only-of-type {\n",
              "        vertical-align: middle;\n",
              "    }\n",
              "\n",
              "    .dataframe tbody tr th {\n",
              "        vertical-align: top;\n",
              "    }\n",
              "\n",
              "    .dataframe thead th {\n",
              "        text-align: right;\n",
              "    }\n",
              "</style>\n",
              "<table border=\"1\" class=\"dataframe\">\n",
              "  <thead>\n",
              "    <tr style=\"text-align: right;\">\n",
              "      <th></th>\n",
              "      <th>Date</th>\n",
              "      <th>Open</th>\n",
              "      <th>High</th>\n",
              "      <th>Low</th>\n",
              "      <th>Close</th>\n",
              "      <th>WAP</th>\n",
              "      <th>No. of Shares</th>\n",
              "      <th>No. of Trades</th>\n",
              "      <th>Total Turnover</th>\n",
              "      <th>Deliverable Quantity</th>\n",
              "      <th>% Deli. Qty to Traded Qty</th>\n",
              "      <th>Spread H-L</th>\n",
              "      <th>Spread C-O</th>\n",
              "    </tr>\n",
              "  </thead>\n",
              "  <tbody>\n",
              "    <tr>\n",
              "      <th>0</th>\n",
              "      <td>2017-02-21</td>\n",
              "      <td>254.25</td>\n",
              "      <td>259.50</td>\n",
              "      <td>253.00</td>\n",
              "      <td>257.75</td>\n",
              "      <td>257.17</td>\n",
              "      <td>40544.0</td>\n",
              "      <td>1048.0</td>\n",
              "      <td>10426526.0</td>\n",
              "      <td>9129.0</td>\n",
              "      <td>22.52</td>\n",
              "      <td>6.50</td>\n",
              "      <td>3.50</td>\n",
              "    </tr>\n",
              "    <tr>\n",
              "      <th>1</th>\n",
              "      <td>2017-02-22</td>\n",
              "      <td>257.00</td>\n",
              "      <td>261.00</td>\n",
              "      <td>252.60</td>\n",
              "      <td>253.05</td>\n",
              "      <td>256.18</td>\n",
              "      <td>35603.0</td>\n",
              "      <td>1067.0</td>\n",
              "      <td>9120718.0</td>\n",
              "      <td>8450.0</td>\n",
              "      <td>23.73</td>\n",
              "      <td>8.40</td>\n",
              "      <td>-3.95</td>\n",
              "    </tr>\n",
              "    <tr>\n",
              "      <th>2</th>\n",
              "      <td>2017-02-23</td>\n",
              "      <td>253.30</td>\n",
              "      <td>254.60</td>\n",
              "      <td>249.20</td>\n",
              "      <td>250.55</td>\n",
              "      <td>251.99</td>\n",
              "      <td>26262.0</td>\n",
              "      <td>600.0</td>\n",
              "      <td>6617792.0</td>\n",
              "      <td>13570.0</td>\n",
              "      <td>51.67</td>\n",
              "      <td>5.40</td>\n",
              "      <td>-2.75</td>\n",
              "    </tr>\n",
              "    <tr>\n",
              "      <th>3</th>\n",
              "      <td>2017-02-27</td>\n",
              "      <td>251.40</td>\n",
              "      <td>252.00</td>\n",
              "      <td>244.00</td>\n",
              "      <td>247.50</td>\n",
              "      <td>249.58</td>\n",
              "      <td>28019.0</td>\n",
              "      <td>732.0</td>\n",
              "      <td>6992855.0</td>\n",
              "      <td>11992.0</td>\n",
              "      <td>42.80</td>\n",
              "      <td>8.00</td>\n",
              "      <td>-3.90</td>\n",
              "    </tr>\n",
              "    <tr>\n",
              "      <th>4</th>\n",
              "      <td>2017-02-28</td>\n",
              "      <td>248.50</td>\n",
              "      <td>253.50</td>\n",
              "      <td>247.60</td>\n",
              "      <td>248.50</td>\n",
              "      <td>249.88</td>\n",
              "      <td>66735.0</td>\n",
              "      <td>1514.0</td>\n",
              "      <td>16675820.0</td>\n",
              "      <td>13474.0</td>\n",
              "      <td>20.19</td>\n",
              "      <td>5.90</td>\n",
              "      <td>0.00</td>\n",
              "    </tr>\n",
              "    <tr>\n",
              "      <th>...</th>\n",
              "      <td>...</td>\n",
              "      <td>...</td>\n",
              "      <td>...</td>\n",
              "      <td>...</td>\n",
              "      <td>...</td>\n",
              "      <td>...</td>\n",
              "      <td>...</td>\n",
              "      <td>...</td>\n",
              "      <td>...</td>\n",
              "      <td>...</td>\n",
              "      <td>...</td>\n",
              "      <td>...</td>\n",
              "      <td>...</td>\n",
              "    </tr>\n",
              "    <tr>\n",
              "      <th>816</th>\n",
              "      <td>2020-06-16</td>\n",
              "      <td>105.00</td>\n",
              "      <td>113.45</td>\n",
              "      <td>102.55</td>\n",
              "      <td>108.05</td>\n",
              "      <td>108.77</td>\n",
              "      <td>64804.0</td>\n",
              "      <td>2865.0</td>\n",
              "      <td>7048765.0</td>\n",
              "      <td>12476.0</td>\n",
              "      <td>19.25</td>\n",
              "      <td>10.90</td>\n",
              "      <td>3.05</td>\n",
              "    </tr>\n",
              "    <tr>\n",
              "      <th>817</th>\n",
              "      <td>2020-06-17</td>\n",
              "      <td>105.60</td>\n",
              "      <td>113.70</td>\n",
              "      <td>105.55</td>\n",
              "      <td>109.65</td>\n",
              "      <td>111.23</td>\n",
              "      <td>112108.0</td>\n",
              "      <td>3838.0</td>\n",
              "      <td>12469652.0</td>\n",
              "      <td>40649.0</td>\n",
              "      <td>36.26</td>\n",
              "      <td>8.15</td>\n",
              "      <td>4.05</td>\n",
              "    </tr>\n",
              "    <tr>\n",
              "      <th>818</th>\n",
              "      <td>2020-06-18</td>\n",
              "      <td>110.00</td>\n",
              "      <td>113.00</td>\n",
              "      <td>109.50</td>\n",
              "      <td>111.15</td>\n",
              "      <td>111.64</td>\n",
              "      <td>24719.0</td>\n",
              "      <td>1334.0</td>\n",
              "      <td>2759625.0</td>\n",
              "      <td>9394.0</td>\n",
              "      <td>38.00</td>\n",
              "      <td>3.50</td>\n",
              "      <td>1.15</td>\n",
              "    </tr>\n",
              "    <tr>\n",
              "      <th>819</th>\n",
              "      <td>2020-06-19</td>\n",
              "      <td>112.45</td>\n",
              "      <td>112.90</td>\n",
              "      <td>109.10</td>\n",
              "      <td>109.85</td>\n",
              "      <td>111.10</td>\n",
              "      <td>32433.0</td>\n",
              "      <td>958.0</td>\n",
              "      <td>3603229.0</td>\n",
              "      <td>13739.0</td>\n",
              "      <td>42.36</td>\n",
              "      <td>3.80</td>\n",
              "      <td>-2.60</td>\n",
              "    </tr>\n",
              "    <tr>\n",
              "      <th>820</th>\n",
              "      <td>2020-06-22</td>\n",
              "      <td>108.70</td>\n",
              "      <td>112.30</td>\n",
              "      <td>108.25</td>\n",
              "      <td>109.30</td>\n",
              "      <td>109.97</td>\n",
              "      <td>19992.0</td>\n",
              "      <td>875.0</td>\n",
              "      <td>2198468.0</td>\n",
              "      <td>10831.0</td>\n",
              "      <td>54.18</td>\n",
              "      <td>4.05</td>\n",
              "      <td>0.60</td>\n",
              "    </tr>\n",
              "  </tbody>\n",
              "</table>\n",
              "<p>821 rows × 13 columns</p>\n",
              "</div>"
            ],
            "text/plain": [
              "          Date    Open  ...  Spread H-L  Spread C-O\n",
              "0   2017-02-21  254.25  ...        6.50        3.50\n",
              "1   2017-02-22  257.00  ...        8.40       -3.95\n",
              "2   2017-02-23  253.30  ...        5.40       -2.75\n",
              "3   2017-02-27  251.40  ...        8.00       -3.90\n",
              "4   2017-02-28  248.50  ...        5.90        0.00\n",
              "..         ...     ...  ...         ...         ...\n",
              "816 2020-06-16  105.00  ...       10.90        3.05\n",
              "817 2020-06-17  105.60  ...        8.15        4.05\n",
              "818 2020-06-18  110.00  ...        3.50        1.15\n",
              "819 2020-06-19  112.45  ...        3.80       -2.60\n",
              "820 2020-06-22  108.70  ...        4.05        0.60\n",
              "\n",
              "[821 rows x 13 columns]"
            ]
          },
          "metadata": {
            "tags": []
          },
          "execution_count": 53
        }
      ]
    },
    {
      "cell_type": "code",
      "metadata": {
        "id": "FQOX9Y9b9TpY",
        "colab_type": "code",
        "colab": {
          "base_uri": "https://localhost:8080/",
          "height": 483
        },
        "outputId": "c54e7d6f-0351-4b9b-9f75-5ddb619c9f7e"
      },
      "source": [
        "import matplotlib.pyplot as plt\n",
        "plt.figure(figsize=(16,8))\n",
        "plt.plot(df.Date,df.Close)\n",
        "plt.show()"
      ],
      "execution_count": 54,
      "outputs": [
        {
          "output_type": "display_data",
          "data": {
            "image/png": "[encoded data removed]",
            "text/plain": [
              "<Figure size 1152x576 with 1 Axes>"
            ]
          },
          "metadata": {
            "tags": [],
            "needs_background": "light"
          }
        }
      ]
    },
    {
      "cell_type": "code",
      "metadata": {
        "id": "yqyybXzY9fHR",
        "colab_type": "code",
        "colab": {
          "base_uri": "https://localhost:8080/",
          "height": 364
        },
        "outputId": "57adc20d-ce91-41c5-a3a6-d14de002f747"
      },
      "source": [
        "df.info()\n",
        "\n"
      ],
      "execution_count": 55,
      "outputs": [
        {
          "output_type": "stream",
          "text": [
            "<class 'pandas.core.frame.DataFrame'>\n",
            "RangeIndex: 821 entries, 0 to 820\n",
            "Data columns (total 13 columns):\n",
            " #   Column                     Non-Null Count  Dtype         \n",
            "---  ------                     --------------  -----         \n",
            " 0   Date                       821 non-null    datetime64[ns]\n",
            " 1   Open                       821 non-null    float64       \n",
            " 2   High                       821 non-null    float64       \n",
            " 3   Low                        821 non-null    float64       \n",
            " 4   Close                      821 non-null    float64       \n",
            " 5   WAP                        821 non-null    float64       \n",
            " 6   No. of Shares              821 non-null    float64       \n",
            " 7   No. of Trades              821 non-null    float64       \n",
            " 8   Total Turnover             821 non-null    float64       \n",
            " 9   Deliverable Quantity       820 non-null    float64       \n",
            " 10  % Deli. Qty to Traded Qty  820 non-null    float64       \n",
            " 11  Spread H-L                 821 non-null    float64       \n",
            " 12  Spread C-O                 821 non-null    float64       \n",
            "dtypes: datetime64[ns](1), float64(12)\n",
            "memory usage: 83.5 KB\n"
          ],
          "name": "stdout"
        }
      ]
    },
    {
      "cell_type": "code",
      "metadata": {
        "id": "taSlr5v49khP",
        "colab_type": "code",
        "colab": {
          "base_uri": "https://localhost:8080/",
          "height": 86
        },
        "outputId": "d79c8a31-a51a-4bca-f795-1df5677a35fa"
      },
      "source": [
        "df.columns"
      ],
      "execution_count": 56,
      "outputs": [
        {
          "output_type": "execute_result",
          "data": {
            "text/plain": [
              "Index(['Date', 'Open', 'High', 'Low', 'Close', 'WAP', 'No. of Shares',\n",
              "       'No. of Trades', 'Total Turnover', 'Deliverable Quantity',\n",
              "       '% Deli. Qty to Traded Qty', 'Spread H-L', 'Spread C-O'],\n",
              "      dtype='object')"
            ]
          },
          "metadata": {
            "tags": []
          },
          "execution_count": 56
        }
      ]
    },
    {
      "cell_type": "code",
      "metadata": {
        "id": "5F3-359_9oJm",
        "colab_type": "code",
        "colab": {}
      },
      "source": [
        "df[\"Date\"] = df[\"Date\"].astype(str)"
      ],
      "execution_count": 57,
      "outputs": []
    },
    {
      "cell_type": "code",
      "metadata": {
        "id": "uJwvlsrW9s1V",
        "colab_type": "code",
        "colab": {
          "base_uri": "https://localhost:8080/",
          "height": 364
        },
        "outputId": "522b3715-132e-4c52-c73d-c7d3e6f9026f"
      },
      "source": [
        "df.info()"
      ],
      "execution_count": 58,
      "outputs": [
        {
          "output_type": "stream",
          "text": [
            "<class 'pandas.core.frame.DataFrame'>\n",
            "RangeIndex: 821 entries, 0 to 820\n",
            "Data columns (total 13 columns):\n",
            " #   Column                     Non-Null Count  Dtype  \n",
            "---  ------                     --------------  -----  \n",
            " 0   Date                       821 non-null    object \n",
            " 1   Open                       821 non-null    float64\n",
            " 2   High                       821 non-null    float64\n",
            " 3   Low                        821 non-null    float64\n",
            " 4   Close                      821 non-null    float64\n",
            " 5   WAP                        821 non-null    float64\n",
            " 6   No. of Shares              821 non-null    float64\n",
            " 7   No. of Trades              821 non-null    float64\n",
            " 8   Total Turnover             821 non-null    float64\n",
            " 9   Deliverable Quantity       820 non-null    float64\n",
            " 10  % Deli. Qty to Traded Qty  820 non-null    float64\n",
            " 11  Spread H-L                 821 non-null    float64\n",
            " 12  Spread C-O                 821 non-null    float64\n",
            "dtypes: float64(12), object(1)\n",
            "memory usage: 83.5+ KB\n"
          ],
          "name": "stdout"
        }
      ]
    },
    {
      "cell_type": "code",
      "metadata": {
        "id": "5IpBfpud9z12",
        "colab_type": "code",
        "colab": {}
      },
      "source": [
        "dd = df[\"Date\"].str.split(\"-\" ,n = -1,expand = True)\n",
        "df[\"Year\"] = dd[0]\n",
        "df[\"month\"] = dd[1]\n",
        "df[\"Day\"] = dd[2]"
      ],
      "execution_count": 59,
      "outputs": []
    },
    {
      "cell_type": "code",
      "metadata": {
        "id": "uHHhzoky-Vho",
        "colab_type": "code",
        "colab": {}
      },
      "source": [
        "df[\"Year\"] = df[\"Year\"].astype(int)\n",
        "df[\"month\"] = df[\"month\"].astype(int)\n",
        "df[\"Day\"] = df[\"Day\"].astype(int)"
      ],
      "execution_count": 60,
      "outputs": []
    },
    {
      "cell_type": "code",
      "metadata": {
        "id": "ZABzBGctNGA2",
        "colab_type": "code",
        "colab": {
          "base_uri": "https://localhost:8080/",
          "height": 279
        },
        "outputId": "0fc50156-b36c-4966-8cf0-e43acaaa5201"
      },
      "source": [
        "plt.scatter(x=df.Open, y=df.Low, c=\"red\")\n",
        "plt.legend([\"Open\"])\n",
        "plt.xlabel(\"Open\")\n",
        "plt.ylabel(\"Low\")\n",
        "plt.show()"
      ],
      "execution_count": 61,
      "outputs": [
        {
          "output_type": "display_data",
          "data": {
            "image/png": "[encoded data removed]",
            "text/plain": [
              "<Figure size 432x288 with 1 Axes>"
            ]
          },
          "metadata": {
            "tags": [],
            "needs_background": "light"
          }
        }
      ]
    },
    {
      "cell_type": "code",
      "metadata": {
        "id": "i_pDMqmLVpFA",
        "colab_type": "code",
        "colab": {
          "base_uri": "https://localhost:8080/",
          "height": 279
        },
        "outputId": "4c46e6a0-7065-432c-bdb6-d3bb2d9b7f40"
      },
      "source": [
        "plt.scatter(x=df.Close, y=df.High, c=\"blue\")\n",
        "plt.legend([\"Close\"])\n",
        "plt.xlabel(\"Close\")\n",
        "plt.ylabel(\"High\")\n",
        "plt.show()"
      ],
      "execution_count": 62,
      "outputs": [
        {
          "output_type": "display_data",
          "data": {
            "image/png": "[encoded data removed]",
            "text/plain": [
              "<Figure size 432x288 with 1 Axes>"
            ]
          },
          "metadata": {
            "tags": [],
            "needs_background": "light"
          }
        }
      ]
    },
    {
      "cell_type": "code",
      "metadata": {
        "id": "ohZ3tJTLPuhn",
        "colab_type": "code",
        "colab": {
          "base_uri": "https://localhost:8080/",
          "height": 279
        },
        "outputId": "ddaecf76-0316-4162-e7b5-e512dd26e569"
      },
      "source": [
        "plt.scatter(x=df.Open, y=df.Close, c=\"red\")\n",
        "plt.scatter(x=df.Low, y=df.High, c=\"blue\")\n",
        "plt.legend([\"Open\",\"Close\"])\n",
        "plt.xlabel(\"Open\")\n",
        "plt.ylabel(\"Close\")\n",
        "plt.show()"
      ],
      "execution_count": 63,
      "outputs": [
        {
          "output_type": "display_data",
          "data": {
            "image/png": "[encoded data removed]",
            "text/plain": [
              "<Figure size 432x288 with 1 Axes>"
            ]
          },
          "metadata": {
            "tags": [],
            "needs_background": "light"
          }
        }
      ]
    },
    {
      "cell_type": "code",
      "metadata": {
        "id": "dm_eC_KGaOr4",
        "colab_type": "code",
        "colab": {
          "base_uri": "https://localhost:8080/",
          "height": 295
        },
        "outputId": "f6120e95-35e2-4124-d6e7-2307e165dffe"
      },
      "source": [
        "plt.bar(df.Open,df.Close, width = 0.3, color = ['red', 'green']) \n",
        "plt.xlabel('Open') \n",
        "plt.ylabel('Close') \n",
        "plt.title('Bar Graph Visualisation')  \n",
        "plt.show() "
      ],
      "execution_count": 64,
      "outputs": [
        {
          "output_type": "display_data",
          "data": {
            "image/png": "[encoded data removed]",
            "text/plain": [
              "<Figure size 432x288 with 1 Axes>"
            ]
          },
          "metadata": {
            "tags": [],
            "needs_background": "light"
          }
        }
      ]
    },
    {
      "cell_type": "code",
      "metadata": {
        "id": "HR-fC6qL-aKX",
        "colab_type": "code",
        "colab": {
          "base_uri": "https://localhost:8080/",
          "height": 416
        },
        "outputId": "0d26f7f5-e262-48c5-bf7a-dbf001d39ceb"
      },
      "source": [
        "df.info()"
      ],
      "execution_count": 65,
      "outputs": [
        {
          "output_type": "stream",
          "text": [
            "<class 'pandas.core.frame.DataFrame'>\n",
            "RangeIndex: 821 entries, 0 to 820\n",
            "Data columns (total 16 columns):\n",
            " #   Column                     Non-Null Count  Dtype  \n",
            "---  ------                     --------------  -----  \n",
            " 0   Date                       821 non-null    object \n",
            " 1   Open                       821 non-null    float64\n",
            " 2   High                       821 non-null    float64\n",
            " 3   Low                        821 non-null    float64\n",
            " 4   Close                      821 non-null    float64\n",
            " 5   WAP                        821 non-null    float64\n",
            " 6   No. of Shares              821 non-null    float64\n",
            " 7   No. of Trades              821 non-null    float64\n",
            " 8   Total Turnover             821 non-null    float64\n",
            " 9   Deliverable Quantity       820 non-null    float64\n",
            " 10  % Deli. Qty to Traded Qty  820 non-null    float64\n",
            " 11  Spread H-L                 821 non-null    float64\n",
            " 12  Spread C-O                 821 non-null    float64\n",
            " 13  Year                       821 non-null    int64  \n",
            " 14  month                      821 non-null    int64  \n",
            " 15  Day                        821 non-null    int64  \n",
            "dtypes: float64(12), int64(3), object(1)\n",
            "memory usage: 102.8+ KB\n"
          ],
          "name": "stdout"
        }
      ]
    },
    {
      "cell_type": "code",
      "metadata": {
        "id": "aPuXneq_BUUc",
        "colab_type": "code",
        "colab": {
          "base_uri": "https://localhost:8080/",
          "height": 459
        },
        "outputId": "eb53fc59-3ced-4739-b5c1-eacfb99f55d1"
      },
      "source": [
        "df.fillna(df.mean())"
      ],
      "execution_count": 66,
      "outputs": [
        {
          "output_type": "execute_result",
          "data": {
            "text/html": [
              "<div>\n",
              "<style scoped>\n",
              "    .dataframe tbody tr th:only-of-type {\n",
              "        vertical-align: middle;\n",
              "    }\n",
              "\n",
              "    .dataframe tbody tr th {\n",
              "        vertical-align: top;\n",
              "    }\n",
              "\n",
              "    .dataframe thead th {\n",
              "        text-align: right;\n",
              "    }\n",
              "</style>\n",
              "<table border=\"1\" class=\"dataframe\">\n",
              "  <thead>\n",
              "    <tr style=\"text-align: right;\">\n",
              "      <th></th>\n",
              "      <th>Date</th>\n",
              "      <th>Open</th>\n",
              "      <th>High</th>\n",
              "      <th>Low</th>\n",
              "      <th>Close</th>\n",
              "      <th>WAP</th>\n",
              "      <th>No. of Shares</th>\n",
              "      <th>No. of Trades</th>\n",
              "      <th>Total Turnover</th>\n",
              "      <th>Deliverable Quantity</th>\n",
              "      <th>% Deli. Qty to Traded Qty</th>\n",
              "      <th>Spread H-L</th>\n",
              "      <th>Spread C-O</th>\n",
              "      <th>Year</th>\n",
              "      <th>month</th>\n",
              "      <th>Day</th>\n",
              "    </tr>\n",
              "  </thead>\n",
              "  <tbody>\n",
              "    <tr>\n",
              "      <th>0</th>\n",
              "      <td>2017-02-21</td>\n",
              "      <td>254.25</td>\n",
              "      <td>259.50</td>\n",
              "      <td>253.00</td>\n",
              "      <td>257.75</td>\n",
              "      <td>257.17</td>\n",
              "      <td>40544.0</td>\n",
              "      <td>1048.0</td>\n",
              "      <td>10426526.0</td>\n",
              "      <td>9129.0</td>\n",
              "      <td>22.52</td>\n",
              "      <td>6.50</td>\n",
              "      <td>3.50</td>\n",
              "      <td>2017</td>\n",
              "      <td>2</td>\n",
              "      <td>21</td>\n",
              "    </tr>\n",
              "    <tr>\n",
              "      <th>1</th>\n",
              "      <td>2017-02-22</td>\n",
              "      <td>257.00</td>\n",
              "      <td>261.00</td>\n",
              "      <td>252.60</td>\n",
              "      <td>253.05</td>\n",
              "      <td>256.18</td>\n",
              "      <td>35603.0</td>\n",
              "      <td>1067.0</td>\n",
              "      <td>9120718.0</td>\n",
              "      <td>8450.0</td>\n",
              "      <td>23.73</td>\n",
              "      <td>8.40</td>\n",
              "      <td>-3.95</td>\n",
              "      <td>2017</td>\n",
              "      <td>2</td>\n",
              "      <td>22</td>\n",
              "    </tr>\n",
              "    <tr>\n",
              "      <th>2</th>\n",
              "      <td>2017-02-23</td>\n",
              "      <td>253.30</td>\n",
              "      <td>254.60</td>\n",
              "      <td>249.20</td>\n",
              "      <td>250.55</td>\n",
              "      <td>251.99</td>\n",
              "      <td>26262.0</td>\n",
              "      <td>600.0</td>\n",
              "      <td>6617792.0</td>\n",
              "      <td>13570.0</td>\n",
              "      <td>51.67</td>\n",
              "      <td>5.40</td>\n",
              "      <td>-2.75</td>\n",
              "      <td>2017</td>\n",
              "      <td>2</td>\n",
              "      <td>23</td>\n",
              "    </tr>\n",
              "    <tr>\n",
              "      <th>3</th>\n",
              "      <td>2017-02-27</td>\n",
              "      <td>251.40</td>\n",
              "      <td>252.00</td>\n",
              "      <td>244.00</td>\n",
              "      <td>247.50</td>\n",
              "      <td>249.58</td>\n",
              "      <td>28019.0</td>\n",
              "      <td>732.0</td>\n",
              "      <td>6992855.0</td>\n",
              "      <td>11992.0</td>\n",
              "      <td>42.80</td>\n",
              "      <td>8.00</td>\n",
              "      <td>-3.90</td>\n",
              "      <td>2017</td>\n",
              "      <td>2</td>\n",
              "      <td>27</td>\n",
              "    </tr>\n",
              "    <tr>\n",
              "      <th>4</th>\n",
              "      <td>2017-02-28</td>\n",
              "      <td>248.50</td>\n",
              "      <td>253.50</td>\n",
              "      <td>247.60</td>\n",
              "      <td>248.50</td>\n",
              "      <td>249.88</td>\n",
              "      <td>66735.0</td>\n",
              "      <td>1514.0</td>\n",
              "      <td>16675820.0</td>\n",
              "      <td>13474.0</td>\n",
              "      <td>20.19</td>\n",
              "      <td>5.90</td>\n",
              "      <td>0.00</td>\n",
              "      <td>2017</td>\n",
              "      <td>2</td>\n",
              "      <td>28</td>\n",
              "    </tr>\n",
              "    <tr>\n",
              "      <th>...</th>\n",
              "      <td>...</td>\n",
              "      <td>...</td>\n",
              "      <td>...</td>\n",
              "      <td>...</td>\n",
              "      <td>...</td>\n",
              "      <td>...</td>\n",
              "      <td>...</td>\n",
              "      <td>...</td>\n",
              "      <td>...</td>\n",
              "      <td>...</td>\n",
              "      <td>...</td>\n",
              "      <td>...</td>\n",
              "      <td>...</td>\n",
              "      <td>...</td>\n",
              "      <td>...</td>\n",
              "      <td>...</td>\n",
              "    </tr>\n",
              "    <tr>\n",
              "      <th>816</th>\n",
              "      <td>2020-06-16</td>\n",
              "      <td>105.00</td>\n",
              "      <td>113.45</td>\n",
              "      <td>102.55</td>\n",
              "      <td>108.05</td>\n",
              "      <td>108.77</td>\n",
              "      <td>64804.0</td>\n",
              "      <td>2865.0</td>\n",
              "      <td>7048765.0</td>\n",
              "      <td>12476.0</td>\n",
              "      <td>19.25</td>\n",
              "      <td>10.90</td>\n",
              "      <td>3.05</td>\n",
              "      <td>2020</td>\n",
              "      <td>6</td>\n",
              "      <td>16</td>\n",
              "    </tr>\n",
              "    <tr>\n",
              "      <th>817</th>\n",
              "      <td>2020-06-17</td>\n",
              "      <td>105.60</td>\n",
              "      <td>113.70</td>\n",
              "      <td>105.55</td>\n",
              "      <td>109.65</td>\n",
              "      <td>111.23</td>\n",
              "      <td>112108.0</td>\n",
              "      <td>3838.0</td>\n",
              "      <td>12469652.0</td>\n",
              "      <td>40649.0</td>\n",
              "      <td>36.26</td>\n",
              "      <td>8.15</td>\n",
              "      <td>4.05</td>\n",
              "      <td>2020</td>\n",
              "      <td>6</td>\n",
              "      <td>17</td>\n",
              "    </tr>\n",
              "    <tr>\n",
              "      <th>818</th>\n",
              "      <td>2020-06-18</td>\n",
              "      <td>110.00</td>\n",
              "      <td>113.00</td>\n",
              "      <td>109.50</td>\n",
              "      <td>111.15</td>\n",
              "      <td>111.64</td>\n",
              "      <td>24719.0</td>\n",
              "      <td>1334.0</td>\n",
              "      <td>2759625.0</td>\n",
              "      <td>9394.0</td>\n",
              "      <td>38.00</td>\n",
              "      <td>3.50</td>\n",
              "      <td>1.15</td>\n",
              "      <td>2020</td>\n",
              "      <td>6</td>\n",
              "      <td>18</td>\n",
              "    </tr>\n",
              "    <tr>\n",
              "      <th>819</th>\n",
              "      <td>2020-06-19</td>\n",
              "      <td>112.45</td>\n",
              "      <td>112.90</td>\n",
              "      <td>109.10</td>\n",
              "      <td>109.85</td>\n",
              "      <td>111.10</td>\n",
              "      <td>32433.0</td>\n",
              "      <td>958.0</td>\n",
              "      <td>3603229.0</td>\n",
              "      <td>13739.0</td>\n",
              "      <td>42.36</td>\n",
              "      <td>3.80</td>\n",
              "      <td>-2.60</td>\n",
              "      <td>2020</td>\n",
              "      <td>6</td>\n",
              "      <td>19</td>\n",
              "    </tr>\n",
              "    <tr>\n",
              "      <th>820</th>\n",
              "      <td>2020-06-22</td>\n",
              "      <td>108.70</td>\n",
              "      <td>112.30</td>\n",
              "      <td>108.25</td>\n",
              "      <td>109.30</td>\n",
              "      <td>109.97</td>\n",
              "      <td>19992.0</td>\n",
              "      <td>875.0</td>\n",
              "      <td>2198468.0</td>\n",
              "      <td>10831.0</td>\n",
              "      <td>54.18</td>\n",
              "      <td>4.05</td>\n",
              "      <td>0.60</td>\n",
              "      <td>2020</td>\n",
              "      <td>6</td>\n",
              "      <td>22</td>\n",
              "    </tr>\n",
              "  </tbody>\n",
              "</table>\n",
              "<p>821 rows × 16 columns</p>\n",
              "</div>"
            ],
            "text/plain": [
              "           Date    Open    High     Low  ...  Spread C-O  Year  month  Day\n",
              "0    2017-02-21  254.25  259.50  253.00  ...        3.50  2017      2   21\n",
              "1    2017-02-22  257.00  261.00  252.60  ...       -3.95  2017      2   22\n",
              "2    2017-02-23  253.30  254.60  249.20  ...       -2.75  2017      2   23\n",
              "3    2017-02-27  251.40  252.00  244.00  ...       -3.90  2017      2   27\n",
              "4    2017-02-28  248.50  253.50  247.60  ...        0.00  2017      2   28\n",
              "..          ...     ...     ...     ...  ...         ...   ...    ...  ...\n",
              "816  2020-06-16  105.00  113.45  102.55  ...        3.05  2020      6   16\n",
              "817  2020-06-17  105.60  113.70  105.55  ...        4.05  2020      6   17\n",
              "818  2020-06-18  110.00  113.00  109.50  ...        1.15  2020      6   18\n",
              "819  2020-06-19  112.45  112.90  109.10  ...       -2.60  2020      6   19\n",
              "820  2020-06-22  108.70  112.30  108.25  ...        0.60  2020      6   22\n",
              "\n",
              "[821 rows x 16 columns]"
            ]
          },
          "metadata": {
            "tags": []
          },
          "execution_count": 66
        }
      ]
    },
    {
      "cell_type": "code",
      "metadata": {
        "id": "doTVFcPD-fOx",
        "colab_type": "code",
        "colab": {
          "base_uri": "https://localhost:8080/",
          "height": 243
        },
        "outputId": "a4777a58-9d8d-4622-96ed-fc1b6556d012"
      },
      "source": [
        "X = df[[\"Year\",\"month\",\"Day\",\"Open\",\"No. of Shares\",\"Total Turnover\"]].values\n",
        "X"
      ],
      "execution_count": 67,
      "outputs": [
        {
          "output_type": "execute_result",
          "data": {
            "text/plain": [
              "array([[2.0170000e+03, 2.0000000e+00, 2.1000000e+01, 2.5425000e+02,\n",
              "        4.0544000e+04, 1.0426526e+07],\n",
              "       [2.0170000e+03, 2.0000000e+00, 2.2000000e+01, 2.5700000e+02,\n",
              "        3.5603000e+04, 9.1207180e+06],\n",
              "       [2.0170000e+03, 2.0000000e+00, 2.3000000e+01, 2.5330000e+02,\n",
              "        2.6262000e+04, 6.6177920e+06],\n",
              "       ...,\n",
              "       [2.0200000e+03, 6.0000000e+00, 1.8000000e+01, 1.1000000e+02,\n",
              "        2.4719000e+04, 2.7596250e+06],\n",
              "       [2.0200000e+03, 6.0000000e+00, 1.9000000e+01, 1.1245000e+02,\n",
              "        3.2433000e+04, 3.6032290e+06],\n",
              "       [2.0200000e+03, 6.0000000e+00, 2.2000000e+01, 1.0870000e+02,\n",
              "        1.9992000e+04, 2.1984680e+06]])"
            ]
          },
          "metadata": {
            "tags": []
          },
          "execution_count": 67
        }
      ]
    },
    {
      "cell_type": "code",
      "metadata": {
        "id": "577dQuNg_t3p",
        "colab_type": "code",
        "colab": {
          "base_uri": "https://localhost:8080/",
          "height": 1000
        },
        "outputId": "71e81bac-1234-481c-8901-7bcbf28ee6f7"
      },
      "source": [
        "y = df[\"Close\"].values\n",
        "y"
      ],
      "execution_count": 68,
      "outputs": [
        {
          "output_type": "execute_result",
          "data": {
            "text/plain": [
              "array([257.75, 253.05, 250.55, 247.5 , 248.5 , 247.9 , 245.1 , 243.85,\n",
              "       244.7 , 241.15, 240.05, 238.95, 240.45, 242.55, 242.85, 244.05,\n",
              "       239.8 , 238.85, 235.15, 238.75, 237.6 , 238.3 , 237.15, 237.65,\n",
              "       235.7 , 237.45, 236.55, 239.  , 250.65, 246.9 , 252.25, 255.25,\n",
              "       254.5 , 249.3 , 249.85, 249.15, 247.2 , 243.65, 245.65, 245.6 ,\n",
              "       244.15, 247.6 , 245.25, 245.8 , 245.2 , 243.1 , 246.7 , 244.7 ,\n",
              "       239.45, 241.2 , 242.9 , 242.3 , 244.4 , 242.2 , 233.55, 235.15,\n",
              "       232.4 , 224.8 , 218.45, 215.95, 211.9 , 204.  , 208.85, 212.65,\n",
              "       205.55, 203.1 , 209.35, 218.55, 214.05, 216.4 , 216.5 , 212.75,\n",
              "       213.55, 213.4 , 209.9 , 207.2 , 209.7 , 210.05, 210.8 , 211.55,\n",
              "       210.05, 208.35, 211.45, 207.3 , 206.75, 208.2 , 208.35, 206.75,\n",
              "       207.25, 205.35, 202.6 , 204.3 , 221.  , 219.6 , 224.65, 223.25,\n",
              "       228.  , 221.65, 222.7 , 225.3 , 226.15, 224.8 , 221.6 , 220.1 ,\n",
              "       219.25, 217.6 , 213.55, 214.15, 213.05, 213.45, 212.15, 208.5 ,\n",
              "       208.6 , 212.  , 208.75, 205.3 , 192.1 , 190.6 , 183.4 , 188.15,\n",
              "       187.2 , 183.85, 180.15, 175.65, 177.15, 176.3 , 174.6 , 175.7 ,\n",
              "       183.5 , 190.65, 197.4 , 193.6 , 195.35, 192.85, 199.6 , 197.65,\n",
              "       195.  , 196.75, 193.55, 194.7 , 190.15, 191.65, 193.15, 191.95,\n",
              "       189.2 , 185.  , 180.95, 181.2 , 176.75, 177.7 , 179.2 , 183.  ,\n",
              "       184.3 , 182.95, 185.8 , 189.85, 190.85, 192.05, 192.75, 188.4 ,\n",
              "       186.25, 186.2 , 183.1 , 185.75, 186.2 , 185.4 , 185.15, 189.9 ,\n",
              "       192.65, 194.25, 195.35, 196.8 , 197.85, 195.8 , 193.85, 190.5 ,\n",
              "       187.85, 189.15, 196.9 , 208.4 , 216.5 , 218.05, 223.35, 217.15,\n",
              "       218.4 , 222.8 , 222.3 , 231.25, 225.4 , 221.15, 223.45, 225.15,\n",
              "       225.9 , 229.85, 229.2 , 244.9 , 238.5 , 242.85, 256.75, 268.75,\n",
              "       259.8 , 251.15, 249.5 , 251.9 , 272.25, 274.65, 278.3 , 286.2 ,\n",
              "       291.45, 323.45, 312.65, 317.65, 313.  , 315.05, 303.2 , 313.95,\n",
              "       314.75, 313.3 , 319.45, 374.6 , 362.4 , 383.6 , 377.95, 378.6 ,\n",
              "       358.05, 367.45, 346.65, 352.8 , 353.8 , 364.15, 363.2 , 361.6 ,\n",
              "       354.8 , 342.8 , 337.35, 337.3 , 311.9 , 316.35, 307.65, 309.35,\n",
              "       310.4 , 308.1 , 316.6 , 315.65, 314.4 , 305.25, 300.45, 296.45,\n",
              "       295.45, 290.4 , 295.95, 299.75, 296.1 , 293.8 , 288.6 , 276.05,\n",
              "       271.55, 265.85, 267.15, 261.8 , 269.15, 278.1 , 277.7 , 306.15,\n",
              "       297.  , 282.  , 283.4 , 284.8 , 279.35, 279.75, 279.25, 278.1 ,\n",
              "       265.6 , 291.45, 299.45, 288.9 , 298.4 , 298.8 , 307.65, 308.65,\n",
              "       304.25, 302.3 , 302.25, 303.05, 306.3 , 305.05, 316.65, 324.8 ,\n",
              "       326.7 , 335.3 , 331.55, 329.7 , 332.7 , 333.3 , 342.35, 329.65,\n",
              "       337.55, 344.15, 348.2 , 346.55, 335.5 , 340.1 , 324.5 , 316.65,\n",
              "       315.3 , 313.25, 303.6 , 304.25, 305.25, 303.35, 302.2 , 306.7 ,\n",
              "       319.2 , 314.6 , 311.9 , 309.45, 298.7 , 289.6 , 273.65, 291.25,\n",
              "       295.4 , 296.35, 296.9 , 299.05, 304.25, 303.65, 299.2 , 289.55,\n",
              "       284.1 , 286.7 , 281.9 , 281.5 , 276.3 , 276.4 , 266.85, 268.8 ,\n",
              "       272.15, 273.8 , 272.35, 271.7 , 270.6 , 271.9 , 279.5 , 282.8 ,\n",
              "       277.65, 275.55, 272.15, 260.7 , 258.9 , 254.4 , 250.55, 248.55,\n",
              "       254.6 , 268.45, 262.8 , 261.55, 265.4 , 269.7 , 266.7 , 265.3 ,\n",
              "       268.9 , 277.15, 272.25, 277.85, 280.9 , 272.95, 261.55, 260.55,\n",
              "       264.2 , 265.5 , 266.5 , 265.1 , 264.  , 258.2 , 251.9 , 256.7 ,\n",
              "       260.  , 259.65, 260.85, 281.2 , 269.6 , 261.5 , 253.25, 255.55,\n",
              "       266.35, 260.7 , 256.55, 256.95, 261.  , 267.55, 261.85, 258.2 ,\n",
              "       239.35, 229.3 , 226.7 , 230.2 , 225.25, 211.25, 207.75, 212.55,\n",
              "       207.35, 197.05, 185.25, 184.6 , 194.5 , 191.2 , 194.05, 200.2 ,\n",
              "       199.25, 188.3 , 191.5 , 189.25, 185.8 , 185.55, 186.5 , 185.1 ,\n",
              "       193.3 , 196.75, 201.75, 206.45, 206.95, 207.4 , 207.25, 209.9 ,\n",
              "       220.85, 224.65, 209.15, 213.45, 209.15, 209.2 , 206.05, 202.45,\n",
              "       200.9 , 198.2 , 198.9 , 198.15, 196.2 , 196.85, 194.6 , 190.3 ,\n",
              "       190.25, 188.1 , 185.45, 183.9 , 181.5 , 184.85, 187.2 , 188.75,\n",
              "       190.2 , 197.2 , 209.9 , 227.7 , 222.6 , 212.4 , 212.4 , 204.75,\n",
              "       209.8 , 212.9 , 212.85, 212.  , 210.6 , 209.1 , 207.  , 207.  ,\n",
              "       205.8 , 211.55, 210.8 , 211.85, 208.  , 210.65, 209.65, 209.65,\n",
              "       207.15, 201.65, 195.95, 199.2 , 195.15, 189.15, 187.6 , 186.1 ,\n",
              "       185.15, 188.8 , 188.95, 186.15, 185.15, 183.4 , 183.4 , 181.15,\n",
              "       183.05, 181.75, 181.35, 182.4 , 180.35, 174.35, 174.05, 177.5 ,\n",
              "       180.5 , 192.55, 203.9 , 197.25, 202.05, 216.75, 218.5 , 224.2 ,\n",
              "       233.25, 233.2 , 230.75, 232.8 , 231.05, 228.05, 225.25, 225.9 ,\n",
              "       225.3 , 227.4 , 227.05, 224.75, 223.45, 222.1 , 226.7 , 228.7 ,\n",
              "       225.65, 226.  , 225.65, 224.45, 222.  , 222.75, 221.4 , 222.05,\n",
              "       221.1 , 220.75, 220.75, 224.05, 222.2 , 230.35, 236.3 , 238.45,\n",
              "       239.65, 223.5 , 218.5 , 209.2 , 200.35, 199.3 , 223.55, 213.4 ,\n",
              "       206.9 , 208.3 , 208.6 , 184.9 , 184.9 , 178.  , 173.7 , 175.55,\n",
              "       179.45, 175.05, 177.45, 177.75, 184.5 , 191.65, 192.7 , 193.  ,\n",
              "       189.7 , 189.9 , 189.05, 189.45, 187.4 , 184.9 , 181.4 , 178.95,\n",
              "       183.85, 178.55, 175.7 , 168.15, 152.65, 159.2 , 163.05, 161.85,\n",
              "       161.55, 159.95, 165.05, 171.5 , 167.25, 168.95, 165.2 , 165.9 ,\n",
              "       166.85, 163.45, 163.25, 161.  , 158.15, 158.3 , 153.7 , 153.  ,\n",
              "       154.7 , 153.  , 144.55, 135.7 , 127.95, 130.15, 129.85, 127.4 ,\n",
              "       132.15, 127.15, 122.  , 123.1 , 116.25, 118.85, 118.25, 126.  ,\n",
              "       125.65, 134.35, 122.9 , 119.55, 118.1 , 117.95, 119.35, 115.  ,\n",
              "       110.7 , 104.55, 105.2 , 107.8 , 111.8 , 118.1 , 113.  , 112.75,\n",
              "       108.35, 109.05, 111.9 , 114.5 , 118.3 , 127.05, 122.65, 121.6 ,\n",
              "       127.2 , 119.85, 138.2 , 141.5 , 132.35, 132.45, 140.95, 135.7 ,\n",
              "       136.4 , 135.15, 131.65, 127.2 , 123.35, 120.8 , 116.15, 117.9 ,\n",
              "       117.35, 115.15, 115.05, 115.2 , 116.35, 121.15, 124.15, 123.15,\n",
              "       124.6 , 122.2 , 122.15, 123.05, 124.75, 129.05, 131.8 , 131.4 ,\n",
              "       129.75, 127.45, 143.8 , 139.3 , 139.35, 139.  , 133.6 , 133.1 ,\n",
              "       129.75, 127.5 , 129.05, 129.1 , 126.6 , 127.2 , 127.1 , 130.85,\n",
              "       134.6 , 132.7 , 130.2 , 132.8 , 137.5 , 135.6 , 134.65, 131.9 ,\n",
              "       129.6 , 128.  , 125.55, 126.6 , 127.2 , 125.05, 126.2 , 125.8 ,\n",
              "       125.85, 125.45, 124.05, 123.6 , 130.95, 129.95, 128.55, 127.4 ,\n",
              "       130.1 , 133.75, 134.75, 129.55, 128.5 , 127.2 , 132.  , 131.  ,\n",
              "       134.1 , 135.5 , 140.7 , 139.65, 137.75, 136.6 , 137.45, 134.9 ,\n",
              "       134.95, 135.4 , 133.15, 130.8 , 131.  , 128.75, 125.75, 124.2 ,\n",
              "       123.15, 124.8 , 127.  , 124.6 , 125.25, 121.  , 119.25, 116.3 ,\n",
              "       115.15, 123.45, 130.1 , 126.25, 125.45, 128.45, 127.3 , 125.1 ,\n",
              "       121.45, 119.75, 114.05, 111.3 , 113.25, 108.8 , 111.9 , 105.9 ,\n",
              "        97.45,  96.55,  85.5 ,  84.8 ,  78.05,  76.1 ,  68.95,  71.35,\n",
              "        78.25,  69.  ,  69.05,  71.2 ,  74.35,  72.85,  70.05,  81.25,\n",
              "        81.95,  84.7 ,  93.95,  93.2 ,  92.15,  89.4 ,  91.45, 100.55,\n",
              "       101.85, 100.5 ,  97.5 , 107.65, 106.15, 102.4 , 119.5 , 115.1 ,\n",
              "       118.35, 117.55, 111.85, 114.05, 116.3 , 115.95, 114.6 , 113.4 ,\n",
              "       111.45, 113.8 , 110.8 , 108.4 , 104.65, 106.5 , 107.75, 115.7 ,\n",
              "       103.6 , 101.  ,  99.5 , 102.2 , 102.65, 103.3 , 105.65, 106.  ,\n",
              "       104.  , 105.5 , 109.35, 106.05, 106.45, 104.65, 103.7 , 102.5 ,\n",
              "       108.05, 109.65, 111.15, 109.85, 109.3 ])"
            ]
          },
          "metadata": {
            "tags": []
          },
          "execution_count": 68
        }
      ]
    },
    {
      "cell_type": "code",
      "metadata": {
        "id": "2-VQr1r3_zHe",
        "colab_type": "code",
        "colab": {}
      },
      "source": [
        "from sklearn.model_selection import train_test_split"
      ],
      "execution_count": 69,
      "outputs": []
    },
    {
      "cell_type": "code",
      "metadata": {
        "id": "lJajO-3RAODP",
        "colab_type": "code",
        "colab": {}
      },
      "source": [
        "X_train, X_test, y_train, y_test = train_test_split(X,y,test_size=0.20,random_state=8)"
      ],
      "execution_count": 70,
      "outputs": []
    },
    {
      "cell_type": "code",
      "metadata": {
        "id": "vRuY-dE1AZpO",
        "colab_type": "code",
        "colab": {
          "base_uri": "https://localhost:8080/",
          "height": 34
        },
        "outputId": "c0a05ece-3809-486d-bdf1-a19fd355a52d"
      },
      "source": [
        "X_train.shape"
      ],
      "execution_count": 71,
      "outputs": [
        {
          "output_type": "execute_result",
          "data": {
            "text/plain": [
              "(656, 6)"
            ]
          },
          "metadata": {
            "tags": []
          },
          "execution_count": 71
        }
      ]
    },
    {
      "cell_type": "code",
      "metadata": {
        "id": "6e9fOWMAAdc7",
        "colab_type": "code",
        "colab": {
          "base_uri": "https://localhost:8080/",
          "height": 34
        },
        "outputId": "603eca67-5f6d-46da-9ec4-faa33a77e452"
      },
      "source": [
        "y_train.shape\n",
        "\n"
      ],
      "execution_count": 72,
      "outputs": [
        {
          "output_type": "execute_result",
          "data": {
            "text/plain": [
              "(656,)"
            ]
          },
          "metadata": {
            "tags": []
          },
          "execution_count": 72
        }
      ]
    },
    {
      "cell_type": "code",
      "metadata": {
        "id": "VjXAXIv5AkJy",
        "colab_type": "code",
        "colab": {
          "base_uri": "https://localhost:8080/",
          "height": 34
        },
        "outputId": "ed82585e-27cc-4fbe-8b78-042835971e0e"
      },
      "source": [
        "X_test.shape\n",
        "\n"
      ],
      "execution_count": 73,
      "outputs": [
        {
          "output_type": "execute_result",
          "data": {
            "text/plain": [
              "(165, 6)"
            ]
          },
          "metadata": {
            "tags": []
          },
          "execution_count": 73
        }
      ]
    },
    {
      "cell_type": "code",
      "metadata": {
        "id": "17UjVf2HAoTI",
        "colab_type": "code",
        "colab": {
          "base_uri": "https://localhost:8080/",
          "height": 34
        },
        "outputId": "d2f26f2d-5e10-4702-e1ee-b49b9ce4374d"
      },
      "source": [
        "y_test.shape"
      ],
      "execution_count": 74,
      "outputs": [
        {
          "output_type": "execute_result",
          "data": {
            "text/plain": [
              "(165,)"
            ]
          },
          "metadata": {
            "tags": []
          },
          "execution_count": 74
        }
      ]
    },
    {
      "cell_type": "markdown",
      "metadata": {
        "id": "ZLR4EVxodXzS",
        "colab_type": "text"
      },
      "source": [
        "***PREDICTIONS AND SCORES***\n"
      ]
    },
    {
      "cell_type": "code",
      "metadata": {
        "id": "tBNHgXowHGRv",
        "colab_type": "code",
        "colab": {}
      },
      "source": [
        "from sklearn.preprocessing import StandardScaler\n",
        "sc = StandardScaler()\n",
        "X_train = sc.fit_transform(X_train)\n",
        "X_test = sc.transform(X_test)"
      ],
      "execution_count": 75,
      "outputs": []
    },
    {
      "cell_type": "code",
      "metadata": {
        "id": "g4W4mopuDGuM",
        "colab_type": "code",
        "colab": {}
      },
      "source": [
        "from sklearn.linear_model import LinearRegression"
      ],
      "execution_count": 76,
      "outputs": []
    },
    {
      "cell_type": "code",
      "metadata": {
        "id": "XoDPAqW6E_Ct",
        "colab_type": "code",
        "colab": {
          "base_uri": "https://localhost:8080/",
          "height": 34
        },
        "outputId": "bde50d60-4f52-403a-803f-6357fca805fd"
      },
      "source": [
        "regr = LinearRegression(fit_intercept=False)\n",
        "regr.fit(X_train, y_train)\n",
        "abs(regr.score(X,y))/10000000000000"
      ],
      "execution_count": 82,
      "outputs": [
        {
          "output_type": "execute_result",
          "data": {
            "text/plain": [
              "0.7394380389929586"
            ]
          },
          "metadata": {
            "tags": []
          },
          "execution_count": 82
        }
      ]
    },
    {
      "cell_type": "code",
      "metadata": {
        "id": "5Y01FahsFIOI",
        "colab_type": "code",
        "colab": {
          "base_uri": "https://localhost:8080/",
          "height": 34
        },
        "outputId": "7d84d574-fc56-47b9-f363-74b1bc747ef6"
      },
      "source": [
        "from sklearn.svm import SVR\n",
        "regressor = SVR(kernel = 'rbf')\n",
        "regressor.fit(X_train, y_train)\n",
        "regressor.score(X_train,y_train)"
      ],
      "execution_count": 83,
      "outputs": [
        {
          "output_type": "execute_result",
          "data": {
            "text/plain": [
              "0.8005431075312434"
            ]
          },
          "metadata": {
            "tags": []
          },
          "execution_count": 83
        }
      ]
    },
    {
      "cell_type": "code",
      "metadata": {
        "id": "SzXFfaSKFXzU",
        "colab_type": "code",
        "colab": {}
      },
      "source": [
        ""
      ],
      "execution_count": 114,
      "outputs": []
    }
  ]
}